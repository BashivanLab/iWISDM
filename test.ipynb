{
 "cells": [
  {
   "cell_type": "code",
   "execution_count": 3,
   "id": "2a8862ea",
   "metadata": {},
   "outputs": [],
   "source": [
    "import os, glob\n",
    "import pickle"
   ]
  },
  {
   "cell_type": "code",
   "execution_count": 4,
   "id": "4d3c24e0",
   "metadata": {},
   "outputs": [],
   "source": [
    "dir_path = './data/min_shapenet_easy_angle'"
   ]
  },
  {
   "cell_type": "code",
   "execution_count": 31,
   "id": "4d847821",
   "metadata": {},
   "outputs": [],
   "source": [
    "pkl = './data/MULTIF_5_stim/MULTFS_5_stim.pkl'\n",
    "with open(pkl, \"rb\") as fh:\n",
    "  data = pickle.load(fh)"
   ]
  },
  {
   "cell_type": "code",
   "execution_count": 35,
   "id": "04710ac8",
   "metadata": {},
   "outputs": [],
   "source": [
    "data.to_pickle('./data/MULTIF_5_stim/MULTFS_5_stim.pkl', protocol = 4)"
   ]
  },
  {
   "cell_type": "code",
   "execution_count": 7,
   "id": "e8ca6ddb",
   "metadata": {},
   "outputs": [
    {
     "data": {
      "text/plain": [
       "['./data/min_shapenet_easy_angle/train_min_shapenet_angle_easy_meta.pkl',\n",
       " './data/min_shapenet_easy_angle/val_min_shapenet_angle_easy_meta.pkl']"
      ]
     },
     "execution_count": 7,
     "metadata": {},
     "output_type": "execute_result"
    }
   ],
   "source": [
    "pkls = sorted([fname for fname in glob.glob(f'{dir_path}/**/*.pkl', recursive=True)])\n",
    "pkls"
   ]
  },
  {
   "cell_type": "code",
   "execution_count": null,
   "id": "7ee4aac6",
   "metadata": {},
   "outputs": [],
   "source": []
  }
 ],
 "metadata": {
  "kernelspec": {
   "display_name": "Python 3 (ipykernel)",
   "language": "python",
   "name": "python3"
  },
  "language_info": {
   "codemirror_mode": {
    "name": "ipython",
    "version": 3
   },
   "file_extension": ".py",
   "mimetype": "text/x-python",
   "name": "python",
   "nbconvert_exporter": "python",
   "pygments_lexer": "ipython3",
   "version": "3.9.9"
  }
 },
 "nbformat": 4,
 "nbformat_minor": 5
}
