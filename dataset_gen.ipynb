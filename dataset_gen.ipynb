{
 "cells": [
  {
   "cell_type": "code",
   "execution_count": 2,
   "metadata": {},
   "outputs": [],
   "source": [
    "import json\n",
    "import shutil\n",
    "import timeit\n",
    "from collections import defaultdict\n",
    "import traceback\n",
    "\n",
    "from cognitive.auto_task.arguments import get_args\n",
    "from cognitive import task_generator as tg\n",
    "from cognitive import constants as const\n",
    "from cognitive import stim_generator as sg\n",
    "from cognitive import info_generator as ig\n",
    "from cognitive.auto_task.auto_task_util import *\n",
    "\n",
    "from api2nn import *\n",
    "\n",
    "import unittest\n",
    "\n",
    "from test.task_generator_test import TaskGeneratorTest\n",
    "\n",
    "import numpy as np\n",
    "import random\n",
    "import networkx as nx\n",
    "from tqdm import tqdm\n",
    "from PIL import Image\n",
    "import os\n",
    "import matplotlib.pyplot as plt\n",
    "from networkx.drawing.nx_pydot import graphviz_layout\n",
    "\n",
    "from typing import Tuple, Union\n"
   ]
  },
  {
   "cell_type": "code",
   "execution_count": null,
   "metadata": {},
   "outputs": [],
   "source": [
    "def generate_temporal_example(whens, first_shareable=None, temporal_switch=temporal_switch):\n",
    "    # max_memory\n",
    "\n",
    "\n",
    "    task = CompareLocTemporal( whens, first_shareable)\n",
    "    assert isinstance(task, tg.TemporalTask)\n",
    "\n",
    "    # To get maximum memory duration, we need to specify the following average\n",
    "    # memory value\n",
    "    avg_mem = round(max_memory / 3.0 + 0.01, 2)\n",
    "\n",
    "    objset = task.generate_objset(n_distractor=0,average_memory_span=avg_mem, temporal_switch=temporal_switch)\n",
    "   \n",
    "\n",
    "    # Getting targets can remove some objects from objset.\n",
    "    # Create example fields after this call.\n",
    "    frame_info = ig.FrameInfo(task, objset)\n",
    "    compo_info = ig.TaskInfoCompo(task, frame_info)\n",
    "    return (compo_info, task)"
   ]
  },
  {
   "cell_type": "code",
   "execution_count": null,
   "metadata": {},
   "outputs": [],
   "source": [
    "def generate_compo_temporal_example(n_tasks=1,\n",
    "                                    whens=None, temporal_switch=temporal_switch):\n",
    "    '''\n",
    "\n",
    "    :param first_shareable:\n",
    "    :param whens:\n",
    "    :param families:\n",
    "    :param max_memory:\n",
    "    :param max_distractors:\n",
    "    :param n_tasks:\n",
    "    :return: combined TaskInfo Compo\n",
    "    '''\n",
    "    if n_tasks == 1:\n",
    "        return generate_temporal_example(whens=whens, first_shareable=1, temporal_switch=temporal_switch)\n",
    "    else:\n",
    "        compo_tasks = [generate_temporal_example(whens=whens, first_shareable=1, temporal_switch=temporal_switch)\n",
    "                    for _ in range(n_tasks)]\n",
    "        # temporal combination\n",
    "        cur_task = compo_tasks[0]\n",
    "        for task in compo_tasks[1:]:\n",
    "            cur_task.merge(task)\n",
    "        return cur_task"
   ]
  },
  {
   "cell_type": "code",
   "execution_count": null,
   "metadata": {},
   "outputs": [],
   "source": [
    "task_info, task = generate_compo_temporal_example(n_tasks=1, whens=[f'last{nback}', 'last0'], temporal_switch=temporal_switch)"
   ]
  }
 ],
 "metadata": {
  "kernelspec": {
   "display_name": "bashlab_cogenv",
   "language": "python",
   "name": "python3"
  },
  "language_info": {
   "codemirror_mode": {
    "name": "ipython",
    "version": 3
   },
   "file_extension": ".py",
   "mimetype": "text/x-python",
   "name": "python",
   "nbconvert_exporter": "python",
   "pygments_lexer": "ipython3",
   "version": "3.8.16"
  },
  "orig_nbformat": 4
 },
 "nbformat": 4,
 "nbformat_minor": 2
}
