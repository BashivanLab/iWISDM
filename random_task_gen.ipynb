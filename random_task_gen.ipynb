{
 "cells": [
  {
   "attachments": {},
   "cell_type": "markdown",
   "metadata": {},
   "source": [
    "# Creating and saving a randomly generated task dataset "
   ]
  },
  {
   "attachments": {},
   "cell_type": "markdown",
   "metadata": {},
   "source": [
    "### Imports"
   ]
  },
  {
   "cell_type": "code",
   "execution_count": null,
   "metadata": {},
   "outputs": [],
   "source": [
    "from cognitive.task_generator import TemporalTask\n",
    "from cognitive import stim_generator as sg\n",
    "from cognitive import task_generator as tg\n",
    "import cognitive.info_generator as ig\n",
    "from cognitive import constants as const\n",
    "from cognitive.auto_task import auto_task_util as auto_task\n",
    "from collections import defaultdict\n",
    "import os\n",
    "import shutil\n",
    "import random"
   ]
  },
  {
   "attachments": {},
   "cell_type": "markdown",
   "metadata": {},
   "source": [
    "### Parameter Initialization"
   ]
  },
  {
   "attachments": {},
   "cell_type": "markdown",
   "metadata": {},
   "source": [
    "- Here we initialize the parameters which control the random task generation"
   ]
  },
  {
   "cell_type": "code",
   "execution_count": 4,
   "metadata": {},
   "outputs": [
    {
     "name": "stdout",
     "output_type": "stream",
     "text": [
      "Stimuli Directory:  /Users/lucasgomez/Desktop/Neuro/Bashvian/COGEnv/COG_v3_shapenet-main/data/MULTIF_5_stim/MULTIF_5_stim\n",
      "OrderedDict([((0, 0), [(0.0, 0.3333333333333333), (0.0, 0.3333333333333333)]), ((0, 1), [(0.0, 0.3333333333333333), (0.3333333333333333, 0.6666666666666666)]), ((0, 2), [(0.0, 0.3333333333333333), (0.6666666666666666, 1.0)]), ((1, 0), [(0.3333333333333333, 0.6666666666666666), (0.0, 0.3333333333333333)]), ((1, 1), [(0.3333333333333333, 0.6666666666666666), (0.3333333333333333, 0.6666666666666666)]), ((1, 2), [(0.3333333333333333, 0.6666666666666666), (0.6666666666666666, 1.0)]), ((2, 0), [(0.6666666666666666, 1.0), (0.0, 0.3333333333333333)]), ((2, 1), [(0.6666666666666666, 1.0), (0.3333333333333333, 0.6666666666666666)]), ((2, 2), [(0.6666666666666666, 1.0), (0.6666666666666666, 1.0)])])\n"
     ]
    }
   ],
   "source": [
    "max_op = 5 # the depth of the task graph\n",
    "max_depth = 5 # the maximum number of operators in the task\n",
    "max_switch = 1 # the maximum number of switch operators in the task graph\n",
    "select_limit = True\n",
    "switch_threshold = 0.3 # chance to add switch operator \n",
    "boolean_ops = [\"IsSame\", \"And\"] # possible boolean operators for the task\n",
    "output_dir = './datasets/trials' # the output directory\n",
    "stim_dir = '/Users/lucasgomez/Desktop/Neuro/Bashvian/COGEnv/COG_v3_shapenet-main/data/MULTIF_5_stim/MULTIF_5_stim' # stimulus set\n",
    "n_tasks = 10 # number of tasks to be generated\n",
    "\n",
    "const.DATA = const.Data(dir_path=stim_dir)\n",
    "op_dict = auto_task.op_dict\n",
    "\n",
    "# Create the output directory\n",
    "if os.path.exists(output_dir):\n",
    "    shutil.rmtree(output_dir)\n",
    "os.makedirs(output_dir)"
   ]
  },
  {
   "attachments": {},
   "cell_type": "markdown",
   "metadata": {},
   "source": [
    "- Generate the random tasks and write them to the output directory"
   ]
  },
  {
   "cell_type": "code",
   "execution_count": null,
   "metadata": {},
   "outputs": [],
   "source": [
    "for i in range(n_tasks):\n",
    "    task_graph, task = auto_task.task_generator(max_switch,\n",
    "                                        switch_threshold,\n",
    "                                        max_op,\n",
    "                                        max_depth,\n",
    "                                        select_limit)\n",
    "\n",
    "    fp = os.path.join(output_dir, 'trial' + str(i))\n",
    "    auto_task.write_trial_instance(task[1], fp, 224, True)"
   ]
  }
 ],
 "metadata": {
  "kernelspec": {
   "display_name": "bashlab_cogenv",
   "language": "python",
   "name": "python3"
  },
  "language_info": {
   "codemirror_mode": {
    "name": "ipython",
    "version": 3
   },
   "file_extension": ".py",
   "mimetype": "text/x-python",
   "name": "python",
   "nbconvert_exporter": "python",
   "pygments_lexer": "ipython3",
   "version": "3.8.17"
  },
  "orig_nbformat": 4
 },
 "nbformat": 4,
 "nbformat_minor": 2
}
