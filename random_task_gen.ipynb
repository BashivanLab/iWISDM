{
 "cells": [
  {
   "cell_type": "code",
   "execution_count": 1,
   "metadata": {},
   "outputs": [
    {
     "name": "stdout",
     "output_type": "stream",
     "text": [
      "Intel MKL WARNING: Support of Intel(R) Streaming SIMD Extensions 4.2 (Intel(R) SSE4.2) enabled only processors has been deprecated. Intel oneAPI Math Kernel Library 2025.0 will require Intel(R) Advanced Vector Extensions (Intel(R) AVX) instructions.\n",
      "Intel MKL WARNING: Support of Intel(R) Streaming SIMD Extensions 4.2 (Intel(R) SSE4.2) enabled only processors has been deprecated. Intel oneAPI Math Kernel Library 2025.0 will require Intel(R) Advanced Vector Extensions (Intel(R) AVX) instructions.\n"
     ]
    },
    {
     "name": "stderr",
     "output_type": "stream",
     "text": [
      "2023-07-31 17:27:44.232449: I tensorflow/core/platform/cpu_feature_guard.cc:182] This TensorFlow binary is optimized to use available CPU instructions in performance-critical operations.\n",
      "To enable the following instructions: SSE4.1 SSE4.2, in other operations, rebuild TensorFlow with the appropriate compiler flags.\n"
     ]
    }
   ],
   "source": [
    "from cognitive.task_generator import TemporalTask\n",
    "from cognitive import stim_generator as sg\n",
    "from cognitive import task_generator as tg\n",
    "import cognitive.info_generator as ig\n",
    "from cognitive import constants as const\n",
    "from cognitive.auto_task import auto_task_util as auto_task\n",
    "from collections import defaultdict\n",
    "import os\n",
    "import shutil\n",
    "import random"
   ]
  },
  {
   "cell_type": "code",
   "execution_count": 2,
   "metadata": {},
   "outputs": [
    {
     "name": "stdout",
     "output_type": "stream",
     "text": [
      "Stimuli Directory:  /Users/lucasgomez/Desktop/Neuro/Bashvian/COGEnv/COG_v3_shapenet-main/data/MULTIF_5_stim/MULTIF_5_stim\n",
      "OrderedDict([((0, 0), [(0.0, 0.5), (0.0, 0.5)]), ((0, 1), [(0.0, 0.5), (0.5, 1.0)]), ((1, 0), [(0.5, 1.0), (0.0, 0.5)]), ((1, 1), [(0.5, 1.0), (0.5, 1.0)])])\n"
     ]
    }
   ],
   "source": [
    "max_op = 5 # the depth of the task graph\n",
    "max_depth = 5 # the maximum number of operators in the task\n",
    "select_limit = True\n",
    "switch_threshold = 0.3\n",
    "boolean_ops = [\"Exist\", \"IsSame\", \"And\"]\n",
    "output_dir = './datasets/trials' # the output directory\n",
    "n_tasks = 10\n",
    "stim_dir = '/Users/lucasgomez/Desktop/Neuro/Bashvian/COGEnv/COG_v3_shapenet-main/data/MULTIF_5_stim/MULTIF_5_stim'\n",
    "\n",
    "const.DATA = const.Data(dir_path=stim_dir)\n",
    "\n",
    "op_dict = auto_task.op_dict\n",
    "\n",
    "if os.path.exists(output_dir):\n",
    "    shutil.rmtree(output_dir)\n",
    "os.makedirs(output_dir)"
   ]
  },
  {
   "cell_type": "code",
   "execution_count": 3,
   "metadata": {},
   "outputs": [
    {
     "name": "stdout",
     "output_type": "stream",
     "text": [
      "<class 'cognitive.task_generator.TemporalTask'>\n",
      "Object: loc (0.807, 0.869) category Category: 10 object Object: 150 view_angle View Angle: 1 when last1 epoch [0, 1] deletable False\n",
      "<class 'cognitive.task_generator.TemporalTask'>\n",
      "Object: loc (0.332, 0.716) category Category: 10 object Object: 150 view_angle View Angle: 0 when last5 epoch [7, 8] deletable False\n",
      "Object: loc (0.247, 0.73) category Category: 10 object Object: 150 view_angle View Angle: 0 when last4 epoch [8, 9] deletable False\n",
      "Object: loc (0.856, 0.196) category Category: 10 object Object: 150 view_angle View Angle: 1 when last3 epoch [9, 10] deletable False\n",
      "Object: loc (0.355, 0.185) category Category: 10 object Object: 150 view_angle View Angle: 0 when last2 epoch [10, 11] deletable False\n",
      "Object: loc (0.271, 0.366) category Category: 10 object Object: 150 view_angle View Angle: 1 when last1 epoch [11, 12] deletable False\n",
      "<class 'cognitive.task_generator.TemporalTask'>\n",
      "Object: loc (0.781, 0.651) category Category: 10 object Object: 150 view_angle View Angle: 0 when last0 epoch [0, 1] deletable False\n",
      "<class 'cognitive.task_generator.TemporalTask'>\n",
      "Object: loc (0.806, 0.667) category Category: 10 object Object: 150 view_angle View Angle: 1 when last0 epoch [0, 1] deletable False\n",
      "<class 'cognitive.task_generator.TemporalTask'>\n",
      "Object: loc (0.817, 0.283) category Category: 10 object Object: 150 view_angle View Angle: 0 when last2 epoch [0, 1] deletable False\n",
      "<class 'cognitive.task_generator.TemporalTask'>\n",
      "Object: loc (0.241, 0.64) category Category: 1 object Object: 25 view_angle View Angle: 0 when last4 epoch [4, 5] deletable False\n",
      "Object: loc (0.306, 0.628) category Category: 1 object Object: 22 view_angle View Angle: 0 when last2 epoch [6, 7] deletable False\n",
      "Object: loc (0.789, 0.184) category Category: 1 object Object: 22 view_angle View Angle: 3 when last1 epoch [7, 8] deletable False\n",
      "Object: loc (0.294, 0.346) category Category: 10 object Object: 150 view_angle View Angle: 0 when last0 epoch [8, 9] deletable False\n",
      "<class 'cognitive.task_generator.TemporalTask'>\n",
      "Object: loc (0.718, 0.692) category Category: 10 object Object: 150 view_angle View Angle: 0 when last2 epoch [0, 1] deletable False\n",
      "<class 'cognitive.task_generator.TemporalTask'>\n",
      "Object: loc (0.668, 0.259) category Category: 10 object Object: 150 view_angle View Angle: 1 when last4 epoch [4, 5] deletable False\n",
      "Object: loc (0.274, 0.325) category Category: 1 object Object: 25 view_angle View Angle: 0 when last2 epoch [6, 7] deletable False\n",
      "Object: loc (0.723, 0.285) category Category: 1 object Object: 25 view_angle View Angle: 0 when last1 epoch [7, 8] deletable False\n",
      "Object: loc (0.741, 0.677) category Category: 1 object Object: 25 view_angle View Angle: 0 when last0 epoch [8, 9] deletable False\n",
      "<class 'cognitive.task_generator.TemporalTask'>\n",
      "Object: loc (0.861, 0.133) category Category: 1 object Object: 22 view_angle View Angle: 0 when last2 epoch [0, 1] deletable False\n",
      "<class 'cognitive.task_generator.TemporalTask'>\n",
      "Object: loc (0.222, 0.742) category Category: 10 object Object: 150 view_angle View Angle: 1 when last1 epoch [0, 1] deletable False\n"
     ]
    }
   ],
   "source": [
    "for i in range(n_tasks):\n",
    "    count = 0\n",
    "    # generate a subtask graph and actual task\n",
    "    subtask_graph = auto_task.subtask_graph_generator(count=count, max_op=max_op, max_depth=max_depth,\n",
    "                                            select_limit=select_limit)\n",
    "    subtask = tg.subtask_generation(subtask_graph)\n",
    "    count = subtask_graph[2] + 1\n",
    "    if random.random() < switch_threshold:  # if add switch\n",
    "        new_task_graph = auto_task.subtask_graph_generator(count=count, max_op=max_op, max_depth=max_depth,\n",
    "                                                    select_limit=select_limit)\n",
    "        count = new_task_graph[2] + 1\n",
    "\n",
    "        conditional = auto_task.subtask_graph_generator(count=count, max_op=max_op, max_depth=max_depth,\n",
    "                                                select_limit=select_limit,\n",
    "                                                root_op=random.choice(boolean_ops))\n",
    "        conditional_task = tg.subtask_generation(conditional)\n",
    "        count = conditional[2] + 1\n",
    "        if random.random() < 0.5:\n",
    "            do_if = subtask_graph\n",
    "            do_if_task = subtask\n",
    "            do_else = new_task_graph\n",
    "            do_else_task = tg.subtask_generation(do_else)\n",
    "        else:\n",
    "            do_if = new_task_graph\n",
    "            do_if_task = tg.subtask_generation(do_if)\n",
    "            do_else = subtask_graph\n",
    "            do_else_task = subtask\n",
    "        subtask_graph = auto_task.switch_generator(conditional, do_if, do_else)\n",
    "        count = subtask_graph[2] + 1\n",
    "        subtask = tg.switch_generation(conditional_task, do_if_task, do_else_task)\n",
    "\n",
    "    fp = os.path.join(output_dir, 'trial' + str(i))\n",
    "\n",
    "    auto_task.write_trial_instance(subtask[1], fp, 224, True)\n",
    "\n",
    "# Bugged output giving: ValueError: could not broadcast input array from shape (56,56,3) into shape (X<56,56,3)...\n",
    "# Object: loc (0.396, 0.552) category Category: 1 object Object: 22 view_angle View Angle: 3 when last1 epoch [1, 2] deletable False\n",
    "# Object: loc (0.396, 0.552) category Category: 1 object Object: 22 view_angle View Angle: 3 when last1 epoch [1, 2] deletable False\n",
    "# Object: loc (0.811, 0.375) category Category: 10 object Object: 150 view_angle View Angle: 1 when last1 epoch [7, 8] deletable False\n",
    "# Object: loc (0.328, 0.04) category Category: 1 object Object: 25 view_angle View Angle: 0 when last0 epoch [0, 1] deletable False\n",
    "# Object: loc (0.423, 0.898) category Category: 1 object Object: 22 view_angle View Angle: 0 when last0 epoch [10, 11] deletable False"
   ]
  }
 ],
 "metadata": {
  "kernelspec": {
   "display_name": "bashlab_cogenv",
   "language": "python",
   "name": "python3"
  },
  "language_info": {
   "codemirror_mode": {
    "name": "ipython",
    "version": 3
   },
   "file_extension": ".py",
   "mimetype": "text/x-python",
   "name": "python",
   "nbconvert_exporter": "python",
   "pygments_lexer": "ipython3",
   "version": "3.8.16"
  },
  "orig_nbformat": 4
 },
 "nbformat": 4,
 "nbformat_minor": 2
}
