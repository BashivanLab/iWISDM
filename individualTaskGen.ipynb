{
 "cells": [
  {
   "attachments": {},
   "cell_type": "markdown",
   "metadata": {},
   "source": [
    "# Creating, saving, and loading an individual task"
   ]
  },
  {
   "attachments": {},
   "cell_type": "markdown",
   "metadata": {},
   "source": [
    "### Imports"
   ]
  },
  {
   "cell_type": "code",
   "execution_count": 32,
   "metadata": {},
   "outputs": [],
   "source": [
    "from cognitive.task_generator import TemporalTask\n",
    "from cognitive import stim_generator as sg\n",
    "from cognitive import task_generator as tg\n",
    "from cognitive import constants as const"
   ]
  },
  {
   "attachments": {},
   "cell_type": "markdown",
   "metadata": {},
   "source": [
    "### Task Creation"
   ]
  },
  {
   "attachments": {},
   "cell_type": "markdown",
   "metadata": {},
   "source": [
    "- Here we create a task where the goal is to correctly compare the locations of two stimuli (objects)\n",
    "    - We use the TemporalTask class as a parent class to build from. (All custom tasks must inherit from this TemporalTask)"
   ]
  },
  {
   "cell_type": "code",
   "execution_count": 33,
   "metadata": {},
   "outputs": [],
   "source": [
    "class CompareLocTemporal(TemporalTask):\n",
    "    \"\"\"Compare location between two objects.\"\"\"\n",
    "\n",
    "    def __init__(self, whens=None, first_shareable=None):\n",
    "        \"\"\"\n",
    "            :param whens: the list of two frame names to compare stimuli location between\n",
    "        \"\"\"\n",
    "\n",
    "        # Initialize Class with parent class\n",
    "        super(CompareLocTemporal, self).__init__(whens=whens)\n",
    "\n",
    "        # Select the specified frames\n",
    "        objs1 = tg.Select(when=self.whens[0])\n",
    "        objs2 = tg.Select(when=self.whens[1])\n",
    "\n",
    "        # Get the locations of stimuli within each frame\n",
    "        a1 = tg.GetLoc(objs1)\n",
    "        a2 = tg.GetLoc(objs2)\n",
    "\n",
    "        # Set operator to check if they're the same location\n",
    "        self._operator = tg.IsSame(a1, a2)\n",
    "\n",
    "        # \n",
    "        self.n_frames = const.compare_when([self.whens[0], self.whens[1]]) + 1\n",
    "\n"
   ]
  },
  {
   "attachments": {},
   "cell_type": "markdown",
   "metadata": {},
   "source": [
    "- Define the stimulus directoty and define the data constants class"
   ]
  },
  {
   "cell_type": "code",
   "execution_count": 34,
   "metadata": {},
   "outputs": [
    {
     "name": "stdout",
     "output_type": "stream",
     "text": [
      "Stimuli Directory:  ./data/MULTIF_5_stim\n",
      "OrderedDict([((0, 0), [(0.0, 0.25), (0.0, 0.25)]), ((0, 1), [(0.0, 0.25), (0.25, 0.5)]), ((0, 2), [(0.0, 0.25), (0.5, 0.75)]), ((0, 3), [(0.0, 0.25), (0.75, 1.0)]), ((1, 0), [(0.25, 0.5), (0.0, 0.25)]), ((1, 1), [(0.25, 0.5), (0.25, 0.5)]), ((1, 2), [(0.25, 0.5), (0.5, 0.75)]), ((1, 3), [(0.25, 0.5), (0.75, 1.0)]), ((2, 0), [(0.5, 0.75), (0.0, 0.25)]), ((2, 1), [(0.5, 0.75), (0.25, 0.5)]), ((2, 2), [(0.5, 0.75), (0.5, 0.75)]), ((2, 3), [(0.5, 0.75), (0.75, 1.0)]), ((3, 0), [(0.75, 1.0), (0.0, 0.25)]), ((3, 1), [(0.75, 1.0), (0.25, 0.5)]), ((3, 2), [(0.75, 1.0), (0.5, 0.75)]), ((3, 3), [(0.75, 1.0), (0.75, 1.0)])])\n"
     ]
    }
   ],
   "source": [
    "stim_dir = './data/MULTIF_5_stim'\n",
    "const.DATA = const.Data(stim_dir)"
   ]
  },
  {
   "attachments": {},
   "cell_type": "markdown",
   "metadata": {},
   "source": [
    "- Define the whens and create enstantiate the comparison task object\n",
    "    - Here we define the whens such that the objects in frame 0 and 4 are compared by location"
   ]
  },
  {
   "cell_type": "code",
   "execution_count": 35,
   "metadata": {},
   "outputs": [],
   "source": [
    "whens = ['last0', 'last4']\n",
    "comp_loc_task = CompareLocTemporal(whens)"
   ]
  },
  {
   "attachments": {},
   "cell_type": "markdown",
   "metadata": {},
   "source": [
    "- Save the task as a json file"
   ]
  },
  {
   "cell_type": "code",
   "execution_count": 36,
   "metadata": {},
   "outputs": [
    {
     "data": {
      "text/plain": [
       "{'n_frames': 5,\n",
       " 'first_shareable': 0,\n",
       " 'n_distractors': None,\n",
       " 'avg_mem': None,\n",
       " 'whens': ['last0', 'last4'],\n",
       " 'operator': {'name': 'IsSame',\n",
       "  'child': [{'name': 'GetLoc',\n",
       "    'child': [{'name': 'Select',\n",
       "      'child': [{'name': 'Loc',\n",
       "        'value': None,\n",
       "        'space': {'name': 'Space', 'value': ((0.75, 1.0), (0.5, 0.75))}},\n",
       "       {'name': 'SNCategory', 'value': None},\n",
       "       {'name': 'SNObject',\n",
       "        'value': None,\n",
       "        'category': {'name': 'SNCategory', 'value': None}},\n",
       "       {'name': 'SNViewAngle',\n",
       "        'value': None,\n",
       "        'sn_object': {'name': 'SNObject',\n",
       "         'value': None,\n",
       "         'category': {'name': 'SNCategory', 'value': None}}}],\n",
       "      'when': 'last0'}]},\n",
       "   {'name': 'GetLoc',\n",
       "    'child': [{'name': 'Select',\n",
       "      'child': [{'name': 'Loc',\n",
       "        'value': None,\n",
       "        'space': {'name': 'Space', 'value': ((0.0, 0.25), (0.75, 1.0))}},\n",
       "       {'name': 'SNCategory', 'value': None},\n",
       "       {'name': 'SNObject',\n",
       "        'value': None,\n",
       "        'category': {'name': 'SNCategory', 'value': None}},\n",
       "       {'name': 'SNViewAngle',\n",
       "        'value': None,\n",
       "        'sn_object': {'name': 'SNObject',\n",
       "         'value': None,\n",
       "         'category': {'name': 'SNCategory', 'value': None}}}],\n",
       "      'when': 'last4'}]}]}}"
      ]
     },
     "execution_count": 36,
     "metadata": {},
     "output_type": "execute_result"
    }
   ],
   "source": [
    "comp_loc_task.to_json('comp_loc_task_.json')\n",
    "\n",
    "# load_operator_json"
   ]
  },
  {
   "attachments": {},
   "cell_type": "markdown",
   "metadata": {},
   "source": [
    "- Reinstantiate task from json file"
   ]
  },
  {
   "cell_type": "code",
   "execution_count": null,
   "metadata": {},
   "outputs": [],
   "source": [
    "# TODO"
   ]
  },
  {
   "attachments": {},
   "cell_type": "markdown",
   "metadata": {},
   "source": [
    "- Visualize the graph network of the task"
   ]
  },
  {
   "cell_type": "code",
   "execution_count": 37,
   "metadata": {},
   "outputs": [],
   "source": [
    "# TODO"
   ]
  }
 ],
 "metadata": {
  "kernelspec": {
   "display_name": "bashlab_cogenv",
   "language": "python",
   "name": "python3"
  },
  "language_info": {
   "codemirror_mode": {
    "name": "ipython",
    "version": 3
   },
   "file_extension": ".py",
   "mimetype": "text/x-python",
   "name": "python",
   "nbconvert_exporter": "python",
   "pygments_lexer": "ipython3",
   "version": "3.8.17"
  },
  "orig_nbformat": 4
 },
 "nbformat": 4,
 "nbformat_minor": 2
}
