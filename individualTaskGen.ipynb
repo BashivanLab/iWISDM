{
 "cells": [
  {
   "cell_type": "code",
   "execution_count": 20,
   "metadata": {},
   "outputs": [],
   "source": [
    "from cognitive.task_bank import *\n",
    "from cognitive import stim_generator as sg\n",
    "from cognitive import task_generator as tg\n",
    "import cognitive.info_generator as ig\n",
    "import os\n",
    "from PIL import Image\n",
    "import json"
   ]
  },
  {
   "cell_type": "code",
   "execution_count": 11,
   "metadata": {},
   "outputs": [
    {
     "data": {
      "text/plain": [
       "\"\\nclass SequentialCategoryMatch(TemporalTask):\\n    def __init__(self, whens=None, first_shareable=None, n_frames=1):\\n        super(SequentialCategoryMatch, self).__init__(whens=whens, first_shareable=first_shareable)\\n        total_frames = n_frames * 2 + random.randint(0, const.MAX_MEMORY - (n_frames * 2) + 1)\\n\\n        sample_objs = [tg.Select(when=f'last{total_frames - i - 1}') for i in range(n_frames)]\\n        response_objs = [tg.Select(when=f'last{i}') for i in range(n_frames)]\\n        sample_cats = [tg.GetCategory(obj) for obj in sample_objs]\\n        response_cats = [tg.GetCategory(obj) for obj in response_objs]\\n        is_sames = [tg.IsSame(sample, response) for sample, response in zip(sample_cats, response_cats)]\\n        if n_frames == 1:\\n            self._operator = is_sames[0]\\n        else:\\n            ands = tg.And(is_sames[0], is_sames[1])\\n            for is_same1, is_same2 in zip(is_sames[2::2], is_sames[3::2]):\\n                ands = tg.And(tg.And(is_same1, is_same2), ands)\\n            self._operator = ands\\n        self.n_frames = total_frames\\n\\n    @property\\n    def instance_size(self):\\n        return sg.n_sample_shape(2) * (sg.n_random_when()) ** 2\\n\\n\""
      ]
     },
     "execution_count": 11,
     "metadata": {},
     "output_type": "execute_result"
    }
   ],
   "source": [
    "\"\"\"\n",
    "class SequentialCategoryMatch(TemporalTask):\n",
    "    def __init__(self, whens=None, first_shareable=None, n_frames=1):\n",
    "        super(SequentialCategoryMatch, self).__init__(whens=whens, first_shareable=first_shareable)\n",
    "        total_frames = n_frames * 2 + random.randint(0, const.MAX_MEMORY - (n_frames * 2) + 1)\n",
    "\n",
    "        sample_objs = [tg.Select(when=f'last{total_frames - i - 1}') for i in range(n_frames)]\n",
    "        response_objs = [tg.Select(when=f'last{i}') for i in range(n_frames)]\n",
    "        sample_cats = [tg.GetCategory(obj) for obj in sample_objs]\n",
    "        response_cats = [tg.GetCategory(obj) for obj in response_objs]\n",
    "        is_sames = [tg.IsSame(sample, response) for sample, response in zip(sample_cats, response_cats)]\n",
    "        if n_frames == 1:\n",
    "            self._operator = is_sames[0]\n",
    "        else:\n",
    "            ands = tg.And(is_sames[0], is_sames[1])\n",
    "            for is_same1, is_same2 in zip(is_sames[2::2], is_sames[3::2]):\n",
    "                ands = tg.And(tg.And(is_same1, is_same2), ands)\n",
    "            self._operator = ands\n",
    "        self.n_frames = total_frames\n",
    "\n",
    "    @property\n",
    "    def instance_size(self):\n",
    "        return sg.n_sample_shape(2) * (sg.n_random_when()) ** 2\n",
    "\n",
    "\"\"\""
   ]
  },
  {
   "attachments": {},
   "cell_type": "markdown",
   "metadata": {},
   "source": [
    "# Initialize Parameters"
   ]
  },
  {
   "cell_type": "code",
   "execution_count": 21,
   "metadata": {},
   "outputs": [
    {
     "name": "stdout",
     "output_type": "stream",
     "text": [
      "Stimuli Directory:  ./data/MULTIF_5_stim\n",
      "OrderedDict([((0, 0), [(0.0, 0.25), (0.0, 0.25)]), ((0, 1), [(0.0, 0.25), (0.25, 0.5)]), ((0, 2), [(0.0, 0.25), (0.5, 0.75)]), ((0, 3), [(0.0, 0.25), (0.75, 1.0)]), ((1, 0), [(0.25, 0.5), (0.0, 0.25)]), ((1, 1), [(0.25, 0.5), (0.25, 0.5)]), ((1, 2), [(0.25, 0.5), (0.5, 0.75)]), ((1, 3), [(0.25, 0.5), (0.75, 1.0)]), ((2, 0), [(0.5, 0.75), (0.0, 0.25)]), ((2, 1), [(0.5, 0.75), (0.25, 0.5)]), ((2, 2), [(0.5, 0.75), (0.5, 0.75)]), ((2, 3), [(0.5, 0.75), (0.75, 1.0)]), ((3, 0), [(0.75, 1.0), (0.0, 0.25)]), ((3, 1), [(0.75, 1.0), (0.25, 0.5)]), ((3, 2), [(0.75, 1.0), (0.5, 0.75)]), ((3, 3), [(0.75, 1.0), (0.75, 1.0)])])\n"
     ]
    }
   ],
   "source": [
    "output_dir='./data'\n",
    "stim_dir='./data/MULTIF_5_stim'\n",
    "random_families=True\n",
    "families=['CompareLoc']\n",
    "composition=3\n",
    "temporal_switch=0\n",
    "nback = 1\n",
    "nback_length = 6\n",
    "seq_length = 6\n",
    "seq_reverse = False\n",
    "fix_delay = False\n",
    "fixation_cue = True\n",
    "\n",
    "\n",
    "\n",
    "const.DATA = const.Data(stim_dir)\n",
    "assert all('Compare' in family for family in families)\n",
    "composition = nback_length - nback + 1\n",
    "\n",
    "output_dir=output_dir\n",
    "composition=composition\n",
    "img_size=224\n",
    "first_shareable=1\n",
    "temporal_switch=0\n",
    "max_memory=12\n",
    "\n",
    "\n",
    "if not os.path.exists(output_dir):\n",
    "    os.makedirs(output_dir)"
   ]
  },
  {
   "cell_type": "code",
   "execution_count": 22,
   "metadata": {},
   "outputs": [],
   "source": [
    "def generate_temporal_example(whens, first_shareable=None, temporal_switch=temporal_switch):\n",
    "    # max_memory\n",
    "\n",
    "\n",
    "    task = CompareLocTemporal( whens, first_shareable)\n",
    "    assert isinstance(task, tg.TemporalTask)\n",
    "\n",
    "    # To get maximum memory duration, we need to specify the following average\n",
    "    # memory value\n",
    "    avg_mem = round(max_memory / 3.0 + 0.01, 2)\n",
    "\n",
    "    objset = task.generate_objset(n_distractor=0,average_memory_span=avg_mem, temporal_switch=temporal_switch)\n",
    "   \n",
    "\n",
    "    # Getting targets can remove some objects from objset.\n",
    "    # Create example fields after this call.\n",
    "    frame_info = ig.FrameInfo(task, objset)\n",
    "    compo_info = ig.TaskInfoCompo(task, frame_info)\n",
    "    return compo_info"
   ]
  },
  {
   "cell_type": "code",
   "execution_count": 23,
   "metadata": {},
   "outputs": [],
   "source": [
    "def generate_compo_temporal_example(n_tasks=1,\n",
    "                                    whens=None, temporal_switch=temporal_switch):\n",
    "    '''\n",
    "\n",
    "    :param first_shareable:\n",
    "    :param whens:\n",
    "    :param families:\n",
    "    :param max_memory:\n",
    "    :param max_distractors:\n",
    "    :param n_tasks:\n",
    "    :return: combined TaskInfo Compo\n",
    "    '''\n",
    "    if n_tasks == 1:\n",
    "        return generate_temporal_example(whens=whens, first_shareable=1, temporal_switch=temporal_switch)\n",
    "    else:\n",
    "        compo_tasks = [generate_temporal_example(whens=whens, first_shareable=1, temporal_switch=temporal_switch)\n",
    "                    for _ in range(n_tasks)]\n",
    "        # temporal combination\n",
    "        cur_task = compo_tasks[0]\n",
    "        for task in compo_tasks[1:]:\n",
    "            cur_task.merge(task)\n",
    "        return cur_task"
   ]
  },
  {
   "cell_type": "code",
   "execution_count": 24,
   "metadata": {},
   "outputs": [],
   "source": [
    "task_info = generate_compo_temporal_example(n_tasks=3, whens=[f'last{nback}', 'last0'], temporal_switch=temporal_switch)"
   ]
  },
  {
   "cell_type": "code",
   "execution_count": 25,
   "metadata": {},
   "outputs": [],
   "source": [
    "def write_task_instance(fname, task_info, img_size, fixation_cue=True):\n",
    "    if not os.path.exists(fname):\n",
    "        os.makedirs(fname)\n",
    "    objset = task_info.frame_info.objset\n",
    "    for i, (epoch, frame) in enumerate(zip(sg.render(objset, img_size), task_info.frame_info)):\n",
    "        if fixation_cue:\n",
    "            if not any('ending' in description for description in frame.description):\n",
    "                sg.add_fixation_cue(epoch)\n",
    "        img = Image.fromarray(epoch, 'RGB')\n",
    "        filename = os.path.join(fname, f'epoch{i}.png')\n",
    "        img.save(filename)\n",
    "\n",
    "    examples, compo_example, memory_info = task_info.get_examples()\n",
    "    for i, task_example in enumerate(examples):\n",
    "        filename = os.path.join(fname, f'task{i} example')\n",
    "        with open(filename, 'w') as f:\n",
    "            json.dump(task_example, f, indent=4)\n",
    "\n",
    "    filename = os.path.join(fname, 'compo_task_example')\n",
    "    with open(filename, 'w') as f:\n",
    "        json.dump(compo_example, f, indent=4)\n",
    "\n",
    "    filename = os.path.join(fname, 'memory_trace_info')\n",
    "    with open(filename, 'w') as f:\n",
    "        json.dump(memory_info, f, indent=4)\n",
    "\n",
    "    filename = os.path.join(fname, 'frame_info')\n",
    "    with open(filename, 'w') as f:\n",
    "        json.dump(task_info.frame_info.dump(), f, indent=4)"
   ]
  },
  {
   "cell_type": "code",
   "execution_count": 26,
   "metadata": {},
   "outputs": [],
   "source": [
    "write_task_instance('test_test', task_info, img_size, fixation_cue)"
   ]
  },
  {
   "cell_type": "code",
   "execution_count": 18,
   "metadata": {},
   "outputs": [],
   "source": [
    "def write_trial_instance(task: tg.TemporalTask, write_fp: str, img_size=224, fixation_cue=True) -> None:\n",
    "    # save the actual generated frames into another folder\n",
    "    if os.path.exists(write_fp):\n",
    "        shutil.rmtree(write_fp)\n",
    "    os.makedirs(write_fp)\n",
    "    frame_info = ig.FrameInfo(task, task.generate_objset())\n",
    "    compo_info = ig.TaskInfoCompo(task, frame_info)\n",
    "    objset = compo_info.frame_info.objset\n",
    "    for i, (epoch, frame) in enumerate(zip(sg.render(objset, img_size), compo_info.frame_info)):\n",
    "        # add cross in the center of the image\n",
    "        if fixation_cue:\n",
    "            if not any('ending' in description for description in frame.description):\n",
    "                sg.add_fixation_cue(epoch)\n",
    "        img = Image.fromarray(epoch, 'RGB') # just store rgb\n",
    "        filename = os.path.join(write_fp, f'epoch{i}.png')\n",
    "        img.save(filename)\n",
    "    _, compo_example, _ = compo_info.get_examples()\n",
    "    filename = os.path.join(write_fp, 'trial_info')\n",
    "    with open(filename, 'w') as f:\n",
    "        json.dump(compo_example, f, indent=4)\n",
    "    return"
   ]
  }
 ],
 "metadata": {
  "kernelspec": {
   "display_name": "bashlab_cogenv",
   "language": "python",
   "name": "python3"
  },
  "language_info": {
   "codemirror_mode": {
    "name": "ipython",
    "version": 3
   },
   "file_extension": ".py",
   "mimetype": "text/x-python",
   "name": "python",
   "nbconvert_exporter": "python",
   "pygments_lexer": "ipython3",
   "version": "3.8.16"
  },
  "orig_nbformat": 4
 },
 "nbformat": 4,
 "nbformat_minor": 2
}
