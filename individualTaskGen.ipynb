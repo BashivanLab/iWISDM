{
 "cells": [
  {
   "cell_type": "code",
   "execution_count": 1,
   "metadata": {},
   "outputs": [],
   "source": [
    "from cognitive.task_bank import *"
   ]
  },
  {
   "cell_type": "code",
   "execution_count": 2,
   "metadata": {},
   "outputs": [],
   "source": [
    "class SequentialCategoryMatch(TemporalTask):\n",
    "    def __init__(self, whens=None, first_shareable=None, n_frames=1):\n",
    "        super(SequentialCategoryMatch, self).__init__(whens=whens, first_shareable=first_shareable)\n",
    "        total_frames = n_frames * 2 + random.randint(0, const.MAX_MEMORY - (n_frames * 2) + 1)\n",
    "\n",
    "        sample_objs = [tg.Select(when=f'last{total_frames - i - 1}') for i in range(n_frames)]\n",
    "        response_objs = [tg.Select(when=f'last{i}') for i in range(n_frames)]\n",
    "        sample_cats = [tg.GetCategory(obj) for obj in sample_objs]\n",
    "        response_cats = [tg.GetCategory(obj) for obj in response_objs]\n",
    "        is_sames = [tg.IsSame(sample, response) for sample, response in zip(sample_cats, response_cats)]\n",
    "        if n_frames == 1:\n",
    "            self._operator = is_sames[0]\n",
    "        else:\n",
    "            ands = tg.And(is_sames[0], is_sames[1])\n",
    "            for is_same1, is_same2 in zip(is_sames[2::2], is_sames[3::2]):\n",
    "                ands = tg.And(tg.And(is_same1, is_same2), ands)\n",
    "            self._operator = ands\n",
    "        self.n_frames = total_frames\n",
    "\n",
    "    @property\n",
    "    def instance_size(self):\n",
    "        return sg.n_sample_shape(2) * (sg.n_random_when()) ** 2"
   ]
  },
  {
   "cell_type": "code",
   "execution_count": 3,
   "metadata": {},
   "outputs": [
    {
     "data": {
      "text/plain": [
       "__main__.SequentialCategoryMatch"
      ]
     },
     "execution_count": 3,
     "metadata": {},
     "output_type": "execute_result"
    }
   ],
   "source": []
  }
 ],
 "metadata": {
  "kernelspec": {
   "display_name": "bashlab_cogenv",
   "language": "python",
   "name": "python3"
  },
  "language_info": {
   "codemirror_mode": {
    "name": "ipython",
    "version": 3
   },
   "file_extension": ".py",
   "mimetype": "text/x-python",
   "name": "python",
   "nbconvert_exporter": "python",
   "pygments_lexer": "ipython3",
   "version": "3.8.16"
  },
  "orig_nbformat": 4
 },
 "nbformat": 4,
 "nbformat_minor": 2
}
