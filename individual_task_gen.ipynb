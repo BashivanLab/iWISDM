{
 "cells": [
  {
   "attachments": {},
   "cell_type": "markdown",
   "metadata": {},
   "source": [
    "# Creating, saving, and loading an individual task"
   ]
  },
  {
   "attachments": {},
   "cell_type": "markdown",
   "metadata": {},
   "source": [
    "### Imports"
   ]
  },
  {
   "cell_type": "code",
   "execution_count": null,
   "metadata": {},
   "outputs": [],
   "source": [
    "from cognitive.task_generator import TemporalTask\n",
    "from cognitive import stim_generator as sg\n",
    "from cognitive import task_generator as tg\n",
    "from cognitive import constants as const\n",
    "import json"
   ]
  },
  {
   "attachments": {},
   "cell_type": "markdown",
   "metadata": {},
   "source": [
    "### Task Creation"
   ]
  },
  {
   "attachments": {},
   "cell_type": "markdown",
   "metadata": {},
   "source": [
    "- Here we create a task where the goal is to correctly compare the locations of two stimuli (objects)\n",
    "    - We use the TemporalTask class as a parent class to build from. (All custom tasks must inherit from this TemporalTask)"
   ]
  },
  {
   "cell_type": "code",
   "execution_count": null,
   "metadata": {},
   "outputs": [],
   "source": [
    "class CompareLocTemporal(TemporalTask):\n",
    "    \"\"\"Compare location between two objects.\"\"\"\n",
    "\n",
    "    def __init__(self, whens):\n",
    "        \"\"\"\n",
    "            :param whens: the list of two frame names to compare stimuli location between\n",
    "        \"\"\"\n",
    "\n",
    "        # Initialize Class with parent class\n",
    "        super(CompareLocTemporal, self).__init__(whens=whens)\n",
    "\n",
    "        # Select the specified frames\n",
    "        objs1 = tg.Select(when=self.whens[0])\n",
    "        objs2 = tg.Select(when=self.whens[1])\n",
    "\n",
    "        # Get the locations of stimuli within each frame\n",
    "        a1 = tg.GetLoc(objs1)\n",
    "        a2 = tg.GetLoc(objs2)\n",
    "\n",
    "        # Set operator to check if they're the same location\n",
    "        self._operator = tg.IsSame(a1, a2)\n",
    "\n",
    "        # \n",
    "        self.n_frames = const.compare_when([self.whens[0], self.whens[1]]) + 1\n",
    "\n"
   ]
  },
  {
   "attachments": {},
   "cell_type": "markdown",
   "metadata": {},
   "source": [
    "- Define the stimulus directoty and define the data constants class"
   ]
  },
  {
   "cell_type": "code",
   "execution_count": null,
   "metadata": {},
   "outputs": [],
   "source": [
    "stim_dir = './data/MULTIF_5_stim'\n",
    "const.DATA = const.Data(stim_dir)"
   ]
  },
  {
   "attachments": {},
   "cell_type": "markdown",
   "metadata": {},
   "source": [
    "- Define the whens and create enstantiate the comparison task object\n",
    "    - Here we define the whens such that the objects in frame 0 and 4 are compared by location"
   ]
  },
  {
   "cell_type": "code",
   "execution_count": null,
   "metadata": {},
   "outputs": [],
   "source": [
    "whens = ['last0', 'last4']\n",
    "comp_loc_task = CompareLocTemporal(whens)"
   ]
  },
  {
   "attachments": {},
   "cell_type": "markdown",
   "metadata": {},
   "source": [
    "- Save the task as a json file"
   ]
  },
  {
   "cell_type": "code",
   "execution_count": null,
   "metadata": {},
   "outputs": [],
   "source": [
    "comp_loc_task.to_json('comp_loc_task_.json')"
   ]
  },
  {
   "attachments": {},
   "cell_type": "markdown",
   "metadata": {},
   "source": [
    "- Reinstantiate task from json file"
   ]
  },
  {
   "cell_type": "code",
   "execution_count": null,
   "metadata": {},
   "outputs": [],
   "source": [
    "f = open('comp_loc_task_.json')\n",
    "task_dict = json.load(f)\n",
    "\n",
    "# first you have to load the operator objects\n",
    "task_dict['operator'] = tg.load_operator_json(task_dict['operator'])\n",
    "\n",
    "# we must reinitialize using the parent task class. (the created task object is functionally identical) \n",
    "comp_loc_task = TemporalTask(\n",
    "    operator=task_dict['operator'],\n",
    "    n_frames=task_dict['n_frames'],\n",
    "    first_shareable=task_dict['first_shareable'],\n",
    "    whens=task_dict['whens']\n",
    ")"
   ]
  },
  {
   "attachments": {},
   "cell_type": "markdown",
   "metadata": {},
   "source": [
    "- Visualize the graph network of the task\n",
    "    - To visualize the graph we must first get the graph object from the task object"
   ]
  },
  {
   "cell_type": "code",
   "execution_count": null,
   "metadata": {},
   "outputs": [],
   "source": [
    "G = comp_loc_task.to_graph()\n",
    "comp_loc_task.draw_graph('comp_loc_task_.png', G)"
   ]
  }
 ],
 "metadata": {
  "kernelspec": {
   "display_name": "bashlab_cogenv",
   "language": "python",
   "name": "python3"
  },
  "language_info": {
   "codemirror_mode": {
    "name": "ipython",
    "version": 3
   },
   "file_extension": ".py",
   "mimetype": "text/x-python",
   "name": "python",
   "nbconvert_exporter": "python",
   "pygments_lexer": "ipython3",
   "version": "3.7.12"
  },
  "orig_nbformat": 4
 },
 "nbformat": 4,
 "nbformat_minor": 2
}
