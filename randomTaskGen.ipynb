{
 "cells": [
  {
   "cell_type": "code",
   "execution_count": null,
   "metadata": {},
   "outputs": [],
   "source": [
    "from cognitive.task_generator import TemporalTask\n",
    "from cognitive import stim_generator as sg\n",
    "from cognitive import task_generator as tg\n",
    "from cognitive import constants as const\n",
    "import random"
   ]
  },
  {
   "cell_type": "code",
   "execution_count": null,
   "metadata": {},
   "outputs": [],
   "source": [
    "subtask_graph = subtask_graph_generator(count=count, max_op=args.max_op, max_depth=args.max_depth,\n",
    "                                        select_limit=args.select_limit)\n",
    "subtask = tg.subtask_generation(subtask_graph)\n",
    "count = subtask_graph[2] + 1\n",
    "if random.random() < args.switch_threshold:  # if add switch\n",
    "    new_task_graph = subtask_graph_generator(count=count, max_op=args.max_op, max_depth=args.max_depth,\n",
    "                                                select_limit=args.select_limit)\n",
    "    count = new_task_graph[2] + 1\n",
    "\n",
    "    conditional = subtask_graph_generator(count=count, max_op=args.max_op, max_depth=args.max_depth,\n",
    "                                            select_limit=args.select_limit,\n",
    "                                            root_op=random.choice(boolean_ops))\n",
    "    conditional_task = tg.subtask_generation(conditional)\n",
    "    count = conditional[2] + 1\n",
    "    if random.random() < 0.5:\n",
    "        do_if = subtask_graph\n",
    "        do_if_task = subtask\n",
    "        do_else = new_task_graph\n",
    "        do_else_task = tg.subtask_generation(do_else)\n",
    "    else:\n",
    "        do_if = new_task_graph\n",
    "        do_if_task = tg.subtask_generation(do_if)\n",
    "        do_else = subtask_graph\n",
    "        do_else_task = subtask\n",
    "    subtask_graph = switch_generator(conditional, do_if, do_else)\n",
    "    count = subtask_graph[2] + 1\n",
    "    subtask = tg.switch_generation(conditional_task, do_if_task, do_else_task)\n",
    "# TODO: some guess objset error where ValueError occurs\n",
    "# write_instance(subtask_graph, subtask, fp, args.img_size, args.n_trials)\n",
    "write_task_instance(subtask_graph, subtask, fp)"
   ]
  }
 ],
 "metadata": {
  "language_info": {
   "name": "python"
  },
  "orig_nbformat": 4
 },
 "nbformat": 4,
 "nbformat_minor": 2
}
