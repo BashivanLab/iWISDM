{
 "cells": [
  {
   "cell_type": "code",
   "execution_count": 1,
   "metadata": {},
   "outputs": [
    {
     "ename": "ImportError",
     "evalue": "cannot import name 'subtask_graph_generator' from 'cognitive.auto_task' (unknown location)",
     "output_type": "error",
     "traceback": [
      "\u001b[1;31m---------------------------------------------------------------------------\u001b[0m",
      "\u001b[1;31mImportError\u001b[0m                               Traceback (most recent call last)",
      "Cell \u001b[1;32mIn[1], line 5\u001b[0m\n\u001b[0;32m      3\u001b[0m \u001b[39mfrom\u001b[39;00m \u001b[39mcognitive\u001b[39;00m \u001b[39mimport\u001b[39;00m task_generator \u001b[39mas\u001b[39;00m tg\n\u001b[0;32m      4\u001b[0m \u001b[39mfrom\u001b[39;00m \u001b[39mcognitive\u001b[39;00m \u001b[39mimport\u001b[39;00m constants \u001b[39mas\u001b[39;00m const\n\u001b[1;32m----> 5\u001b[0m \u001b[39mfrom\u001b[39;00m \u001b[39mcognitive\u001b[39;00m\u001b[39m.\u001b[39;00m\u001b[39mauto_task\u001b[39;00m \u001b[39mimport\u001b[39;00m subtask_graph_generator, switch_generator, write_task_instance\n\u001b[0;32m      6\u001b[0m \u001b[39mimport\u001b[39;00m \u001b[39mrandom\u001b[39;00m\n\u001b[0;32m      7\u001b[0m \u001b[39mimport\u001b[39;00m \u001b[39mos\u001b[39;00m\n",
      "\u001b[1;31mImportError\u001b[0m: cannot import name 'subtask_graph_generator' from 'cognitive.auto_task' (unknown location)"
     ]
    }
   ],
   "source": [
    "from cognitive.task_generator import TemporalTask\n",
    "from cognitive import stim_generator as sg\n",
    "from cognitive import task_generator as tg\n",
    "from cognitive import constants as const\n",
    "from cognitive.auto_task import subtask_graph_generator, switch_generator, write_task_instance\n",
    "import random\n",
    "import os\n",
    "import shutil"
   ]
  },
  {
   "cell_type": "code",
   "execution_count": null,
   "metadata": {},
   "outputs": [],
   "source": [
    "max_op = 5 # the depth of the task graph\n",
    "max_depth = 5 # the maximum number of operators in the task\n",
    "select_limit = True\n",
    "switch_threshold = 0.3\n",
    "boolean_ops = [\"Exist\", \"IsSame\", \"And\"]\n",
    "output_dir = './graphs' # the output directory\n",
    "n_tasks = 10\n",
    "\n",
    "\n",
    "fp = os.path.join(output_dir, str(i))\n",
    "\n",
    "if os.path.exists(fp):\n",
    "    shutil.rmtree(fp)\n",
    "os.makedirs(fp)"
   ]
  },
  {
   "cell_type": "code",
   "execution_count": null,
   "metadata": {},
   "outputs": [],
   "source": [
    "for i in range(n_tasks):\n",
    "    subtask_graph = subtask_graph_generator(count=count, max_op=max_op, max_depth=max_depth,\n",
    "                                        select_limit=select_limit)\n",
    "    subtask = tg.subtask_generation(subtask_graph)\n",
    "    count = subtask_graph[2] + 1\n",
    "    if random.random() < switch_threshold:  # if add switch\n",
    "        new_task_graph = subtask_graph_generator(count=count, max_op=max_op, max_depth=max_depth,\n",
    "                                                    select_limit=select_limit)\n",
    "        count = new_task_graph[2] + 1\n",
    "\n",
    "        conditional = subtask_graph_generator(count=count, max_op=max_op, max_depth=max_depth,\n",
    "                                                select_limit=select_limit,\n",
    "                                                root_op=random.choice(boolean_ops))\n",
    "        conditional_task = tg.subtask_generation(conditional)\n",
    "        count = conditional[2] + 1\n",
    "        if random.random() < 0.5:\n",
    "            do_if = subtask_graph\n",
    "            do_if_task = subtask\n",
    "            do_else = new_task_graph\n",
    "            do_else_task = tg.subtask_generation(do_else)\n",
    "        else:\n",
    "            do_if = new_task_graph\n",
    "            do_if_task = tg.subtask_generation(do_if)\n",
    "            do_else = subtask_graph\n",
    "            do_else_task = subtask\n",
    "        subtask_graph = switch_generator(conditional, do_if, do_else)\n",
    "        count = subtask_graph[2] + 1\n",
    "        subtask = tg.switch_generation(conditional_task, do_if_task, do_else_task)\n",
    "    # TODO: some guess objset error where ValueError occurs\n",
    "    # write_instance(subtask_graph, subtask, fp, args.img_size, args.n_trials)\n",
    "    write_task_instance(subtask_graph, subtask, fp)"
   ]
  }
 ],
 "metadata": {
  "kernelspec": {
   "display_name": "bashlab_cogenv",
   "language": "python",
   "name": "python3"
  },
  "language_info": {
   "codemirror_mode": {
    "name": "ipython",
    "version": 3
   },
   "file_extension": ".py",
   "mimetype": "text/x-python",
   "name": "python",
   "nbconvert_exporter": "python",
   "pygments_lexer": "ipython3",
   "version": "3.8.16"
  },
  "orig_nbformat": 4
 },
 "nbformat": 4,
 "nbformat_minor": 2
}
