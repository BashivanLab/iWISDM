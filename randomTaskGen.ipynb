{
 "cells": [
  {
   "cell_type": "code",
   "execution_count": null,
   "metadata": {},
   "outputs": [],
   "source": [
    "from cognitive.task_generator import TemporalTask\n",
    "from cognitive import stim_generator as sg\n",
    "from cognitive import task_generator as tg\n",
    "from cognitive import constants as const"
   ]
  }
 ],
 "metadata": {
  "language_info": {
   "name": "python"
  },
  "orig_nbformat": 4
 },
 "nbformat": 4,
 "nbformat_minor": 2
}
