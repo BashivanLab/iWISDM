{
 "cells": [
  {
   "attachments": {},
   "cell_type": "markdown",
   "metadata": {},
   "source": [
    "# Creating, saving, and loading an individual task"
   ]
  },
  {
   "attachments": {},
   "cell_type": "markdown",
   "metadata": {},
   "source": [
    "### Imports"
   ]
  },
  {
   "cell_type": "code",
   "execution_count": 1,
   "metadata": {
    "ExecuteTime": {
     "end_time": "2024-02-16T04:22:03.065995Z",
     "start_time": "2024-02-16T04:22:03.036291Z"
    }
   },
   "outputs": [],
   "source": [
    "import sys\n",
    "sys.path.append('../')"
   ]
  },
  {
   "cell_type": "code",
   "execution_count": 2,
   "metadata": {
    "ExecuteTime": {
     "end_time": "2024-02-16T04:22:19.460762Z",
     "start_time": "2024-02-16T04:22:03.052085Z"
    }
   },
   "outputs": [],
   "source": [
    "from cognitive.task_generator import TemporalTask\n",
    "from cognitive import stim_generator as sg\n",
    "from cognitive import task_generator as tg\n",
    "from cognitive import constants as const\n",
    "import json"
   ]
  },
  {
   "attachments": {},
   "cell_type": "markdown",
   "metadata": {},
   "source": [
    "### Task Creation"
   ]
  },
  {
   "attachments": {},
   "cell_type": "markdown",
   "metadata": {},
   "source": [
    "- Here we create a task where the goal is to correctly compare the locations of two stimuli (objects)\n",
    "    - We use the TemporalTask class as a parent class to build from. (All custom tasks must inherit from this TemporalTask)"
   ]
  },
  {
   "cell_type": "code",
   "execution_count": 3,
   "metadata": {
    "ExecuteTime": {
     "end_time": "2024-02-16T04:23:47.122496Z",
     "start_time": "2024-02-16T04:23:47.094384Z"
    }
   },
   "outputs": [],
   "source": [
    "class CompareLocTemporal(TemporalTask):\n",
    "    \"\"\"Compare location between two objects.\"\"\"\n",
    "\n",
    "    def __init__(self, whens):\n",
    "        \"\"\"\n",
    "            :param whens: the list of two frame names to compare stimuli location between\n",
    "        \"\"\"\n",
    "\n",
    "        # Initialize Class with parent class\n",
    "        super(CompareLocTemporal, self).__init__(whens=whens)\n",
    "\n",
    "        # Select the specified frames\n",
    "        objs1 = tg.Select(when=self.whens[0])\n",
    "        objs2 = tg.Select(when=self.whens[1])\n",
    "\n",
    "        # Get the locations of stimuli within each frame\n",
    "        a1 = tg.GetLoc(objs1)\n",
    "        a2 = tg.GetLoc(objs2)\n",
    "\n",
    "        # Set operator to check if they're the same location\n",
    "        self._operator = tg.IsSame(a1, a2)\n",
    "\n",
    "        # \n",
    "        self.n_frames = const.compare_when([self.whens[0], self.whens[1]]) + 1"
   ]
  },
  {
   "attachments": {},
   "cell_type": "markdown",
   "metadata": {},
   "source": [
    "- Define the stimulus directoty and define the data constants class"
   ]
  },
  {
   "cell_type": "code",
   "execution_count": 5,
   "metadata": {
    "ExecuteTime": {
     "end_time": "2024-02-16T04:24:06.763761Z",
     "start_time": "2024-02-16T04:24:06.621487Z"
    }
   },
   "outputs": [],
   "source": [
    "stim_dir = '../data/shapenet_handpicked_val'\n",
    "const.DATA = const.Data(stim_dir, train=False)"
   ]
  },
  {
   "attachments": {},
   "cell_type": "markdown",
   "metadata": {},
   "source": [
    "- Define the whens and create enstantiate the comparison task object\n",
    "    - Here we define the whens such that the objects in frame 0 and 4 are compared by location"
   ]
  },
  {
   "cell_type": "code",
   "execution_count": 6,
   "metadata": {
    "ExecuteTime": {
     "end_time": "2024-02-16T04:24:08.758428Z",
     "start_time": "2024-02-16T04:24:08.739624Z"
    }
   },
   "outputs": [],
   "source": [
    "whens = ['last0', 'last4']\n",
    "comp_loc_task = CompareLocTemporal(whens)"
   ]
  },
  {
   "attachments": {},
   "cell_type": "markdown",
   "metadata": {},
   "source": [
    "- Save the task as a json file"
   ]
  },
  {
   "cell_type": "code",
   "execution_count": 7,
   "metadata": {
    "ExecuteTime": {
     "end_time": "2024-02-16T04:24:10.280244Z",
     "start_time": "2024-02-16T04:24:10.237593Z"
    }
   },
   "outputs": [
    {
     "data": {
      "text/plain": "{'n_frames': 5,\n 'first_shareable': 2,\n 'avg_mem': None,\n 'whens': ['last0', 'last4'],\n 'operator': {'name': 'IsSame',\n  'child': [{'name': 'GetLoc',\n    'child': [{'name': 'Select',\n      'child': [{'name': 'Loc', 'value': None},\n       {'name': 'SNCategory', 'value': None},\n       {'name': 'SNObject',\n        'value': None,\n        'category': {'name': 'SNCategory', 'value': None}},\n       {'name': 'SNViewAngle',\n        'value': None,\n        'sn_object': {'name': 'SNObject',\n         'value': None,\n         'category': {'name': 'SNCategory', 'value': None}}}],\n      'when': 'last0'}]},\n   {'name': 'GetLoc',\n    'child': [{'name': 'Select',\n      'child': [{'name': 'Loc', 'value': None},\n       {'name': 'SNCategory', 'value': None},\n       {'name': 'SNObject',\n        'value': None,\n        'category': {'name': 'SNCategory', 'value': None}},\n       {'name': 'SNViewAngle',\n        'value': None,\n        'sn_object': {'name': 'SNObject',\n         'value': None,\n         'category': {'name': 'SNCategory', 'value': None}}}],\n      'when': 'last4'}]}]}}"
     },
     "execution_count": 7,
     "metadata": {},
     "output_type": "execute_result"
    }
   ],
   "source": [
    "comp_loc_task.to_json('comp_loc_task_.json')"
   ]
  },
  {
   "attachments": {},
   "cell_type": "markdown",
   "metadata": {},
   "source": [
    "- Reinstantiate task from json file"
   ]
  },
  {
   "cell_type": "code",
   "execution_count": 8,
   "metadata": {
    "ExecuteTime": {
     "end_time": "2024-02-16T04:24:12.086862Z",
     "start_time": "2024-02-16T04:24:12.074871Z"
    }
   },
   "outputs": [],
   "source": [
    "f = open('comp_loc_task_.json')\n",
    "task_dict = json.load(f)\n",
    "\n",
    "# first you have to load the operator objects\n",
    "task_dict['operator'] = tg.load_operator_json(task_dict['operator'])\n",
    "\n",
    "# we must reinitialize using the parent task class. (the created task object is functionally identical) \n",
    "comp_loc_task = TemporalTask(\n",
    "    operator=task_dict['operator'],\n",
    "    n_frames=task_dict['n_frames'],\n",
    "    first_shareable=task_dict['first_shareable'],\n",
    "    whens=task_dict['whens']\n",
    ")"
   ]
  },
  {
   "attachments": {},
   "cell_type": "markdown",
   "metadata": {},
   "source": [
    "- Visualize the graph network of the task\n",
    "    - To visualize the graph we must first get the graph object from the task object"
   ]
  },
  {
   "cell_type": "code",
   "execution_count": 9,
   "metadata": {
    "ExecuteTime": {
     "end_time": "2024-02-16T04:24:14.474339Z",
     "start_time": "2024-02-16T04:24:14.466856Z"
    }
   },
   "outputs": [
    {
     "data": {
      "text/plain": "<cognitive.task_generator.TemporalTask at 0x7fc03ea6bf50>"
     },
     "execution_count": 9,
     "metadata": {},
     "output_type": "execute_result"
    }
   ],
   "source": [
    "comp_loc_task"
   ]
  },
  {
   "cell_type": "code",
   "execution_count": 10,
   "metadata": {
    "ExecuteTime": {
     "end_time": "2024-02-16T04:24:18.001204Z",
     "start_time": "2024-02-16T04:24:15.840408Z"
    }
   },
   "outputs": [],
   "source": [
    "G = comp_loc_task.to_graph()\n",
    "comp_loc_task.draw_graph('comp_loc_task_.png', G)"
   ]
  },
  {
   "cell_type": "code",
   "execution_count": 12,
   "outputs": [
    {
     "data": {
      "image/png": "[encoded data removed]",
      "text/plain": "<IPython.core.display.Image object>"
     },
     "execution_count": 12,
     "metadata": {},
     "output_type": "execute_result"
    }
   ],
   "source": [
    "from IPython.display import Image\n",
    "Image('comp_loc_task_.png')"
   ],
   "metadata": {
    "collapsed": false,
    "ExecuteTime": {
     "end_time": "2024-02-16T04:27:02.658844Z",
     "start_time": "2024-02-16T04:27:02.641754Z"
    }
   }
  }
 ],
 "metadata": {
  "kernelspec": {
   "display_name": "bashlab_cogenv",
   "language": "python",
   "name": "python3"
  },
  "language_info": {
   "codemirror_mode": {
    "name": "ipython",
    "version": 3
   },
   "file_extension": ".py",
   "mimetype": "text/x-python",
   "name": "python",
   "nbconvert_exporter": "python",
   "pygments_lexer": "ipython3",
   "version": "3.8.17"
  },
  "orig_nbformat": 4
 },
 "nbformat": 4,
 "nbformat_minor": 2
}
