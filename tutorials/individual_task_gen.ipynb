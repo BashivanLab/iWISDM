{
 "cells": [
  {
   "attachments": {},
   "cell_type": "markdown",
   "metadata": {},
   "source": [
    "# Creating, saving, and loading an individual task"
   ]
  },
  {
   "attachments": {},
   "cell_type": "markdown",
   "metadata": {},
   "source": [
    "### Imports"
   ]
  },
  {
   "cell_type": "code",
   "execution_count": 1,
   "metadata": {
    "ExecuteTime": {
     "end_time": "2024-02-16T04:22:03.065995Z",
     "start_time": "2024-02-16T04:22:03.036291Z"
    }
   },
   "outputs": [],
   "source": [
    "import sys\n",
    "sys.path.append('../')\n",
    "\n",
    "from wisdom import make\n",
    "from wisdom import read_write\n",
    "from wisdom.envs.shapenet.task_generator import TemporalTask\n",
    "import wisdom.envs.shapenet.registration as env_reg\n",
    "import wisdom.envs.shapenet.task_generator as tg"
   ]
  },
  {
   "cell_type": "markdown",
   "metadata": {},
   "source": [
    "### Environment"
   ]
  },
  {
   "cell_type": "code",
   "execution_count": 3,
   "metadata": {},
   "outputs": [
    {
     "name": "stdout",
     "output_type": "stream",
     "text": [
      "{'op_dict': {'Select': {'n_downstream': 4, 'downstream': ['GetLoc', 'GetCategory', 'GetObject'], 'same_children_op': False, 'min_depth': 1, 'min_op': 1}, 'GetCategory': {'n_downstream': 1, 'downstream': ['Select'], 'min_depth': 2, 'min_op': 2}, 'GetLoc': {'n_downstream': 1, 'downstream': ['Select'], 'min_depth': 2, 'min_op': 2}, 'GetObject': {'n_downstream': 1, 'downstream': ['Select'], 'min_depth': 2, 'min_op': 2}, 'IsSame': {'n_downstream': 2, 'downstream': ['GetLoc', 'GetCategory', 'GetObject', 'CONST'], 'sample_dist': [0.26666666666666666, 0.26666666666666666, 0.26666666666666666, 0.2], 'same_children_op': True, 'min_depth': 3, 'min_op': 7}, 'NotSame': {'n_downstream': 2, 'downstream': ['GetLoc', 'GetCategory', 'GetObject', 'CONST'], 'sample_dist': [0.26666666666666666, 0.26666666666666666, 0.26666666666666666, 0.2], 'same_children_op': True, 'min_depth': 3, 'min_op': 7}, 'And': {'n_downstream': 2, 'downstream': ['IsSame', 'NotSame', 'And', 'Or'], 'same_children_op': False, 'min_depth': 4, 'min_op': 15}, 'Or': {'n_downstream': 2, 'downstream': ['IsSame', 'NotSame', 'And', 'Or'], 'same_children_op': False, 'min_depth': 4, 'min_op': 15}, 'CONST': {'n_downstream': 0, 'downstream': [], 'sample_dist': [], 'same_children_op': False, 'min_depth': 1, 'min_op': 1}}, 'root_ops': ['IsSame', 'And', 'Or', 'NotSame', 'GetLoc', 'GetCategory'], 'boolean_ops': ['IsSame', 'And', 'Or', 'NotSame'], 'leaf_op': ['Select'], 'mid_op': ['Switch'], 'max_op': 20, 'max_depth': 10, 'max_switch': 1, 'switch_threshold': 0, 'select_limit': False}\n"
     ]
    }
   ],
   "source": [
    "stim_dir = '../data/shapenet_handpicked'\n",
    "\n",
    "# Create environment\n",
    "env = make(\n",
    "    env_id='ShapeNet',\n",
    "    dataset_fp=stim_dir\n",
    ")\n",
    "\n",
    "# Initialize environment\n",
    "print(env.env_spec.auto_gen_config)"
   ]
  },
  {
   "attachments": {},
   "cell_type": "markdown",
   "metadata": {},
   "source": [
    "### Task Creation"
   ]
  },
  {
   "attachments": {},
   "cell_type": "markdown",
   "metadata": {},
   "source": [
    "- Here we create a task where the goal is to correctly compare the locations of two stimuli (objects)\n",
    "    - We use the TemporalTask class as a parent class to build from. (All custom tasks must inherit from this TemporalTask)"
   ]
  },
  {
   "cell_type": "code",
   "execution_count": 4,
   "metadata": {
    "ExecuteTime": {
     "end_time": "2024-02-16T04:23:47.122496Z",
     "start_time": "2024-02-16T04:23:47.094384Z"
    }
   },
   "outputs": [],
   "source": [
    "class CompareLocTemporal(TemporalTask):\n",
    "    \"\"\"\n",
    "    Compare objects on chosen frames are of the same location or not.\n",
    "    @param: whens: a list of two frame names to compare stimuli location between\n",
    "    \"\"\"\n",
    "\n",
    "    def __init__(self, whens, first_shareable=None):\n",
    "        # Initialize Class with parent class\n",
    "        super(CompareLocTemporal, self).__init__(whens=whens, first_shareable=first_shareable)\n",
    "\n",
    "        # Get the whens\n",
    "        when1, when2 = self.whens[0], self.whens[1]\n",
    "\n",
    "        # Select the specified frames\n",
    "        objs1 = tg.Select(when=when1)\n",
    "        objs2 = tg.Select(when=when2)\n",
    "\n",
    "        # Get the locations of stimuli within each frame\n",
    "        a1 = tg.GetLoc(objs1)\n",
    "        a2 = tg.GetLoc(objs2)\n",
    "        \n",
    "        # Set operator to check if they're the same location\n",
    "        self._operator = tg.IsSame(a1, a2)\n",
    "\n",
    "        # Set the number of frames\n",
    "        self.n_frames = env_reg.compare_when([when1, when2]) + 1"
   ]
  },
  {
   "attachments": {},
   "cell_type": "markdown",
   "metadata": {},
   "source": [
    "- Define the whens and create enstantiate the comparison task object\n",
    "    - Here we define the whens such that the objects in frame 0 and 4 are compared by location"
   ]
  },
  {
   "cell_type": "code",
   "execution_count": 8,
   "metadata": {
    "ExecuteTime": {
     "end_time": "2024-02-16T04:24:08.758428Z",
     "start_time": "2024-02-16T04:24:08.739624Z"
    }
   },
   "outputs": [],
   "source": [
    "whens = ['last0', 'last4']\n",
    "comp_loc_task = CompareLocTemporal(whens)"
   ]
  },
  {
   "attachments": {},
   "cell_type": "markdown",
   "metadata": {},
   "source": [
    "- Save the task as a json file"
   ]
  },
  {
   "cell_type": "code",
   "execution_count": 9,
   "metadata": {
    "ExecuteTime": {
     "end_time": "2024-02-16T04:24:10.280244Z",
     "start_time": "2024-02-16T04:24:10.237593Z"
    }
   },
   "outputs": [],
   "source": [
    "read_write.write_task(comp_loc_task, 'outputs/tasks/comp_loc_task.json')"
   ]
  },
  {
   "attachments": {},
   "cell_type": "markdown",
   "metadata": {},
   "source": [
    "- Reinstantiate task from json file"
   ]
  },
  {
   "cell_type": "code",
   "execution_count": 10,
   "metadata": {
    "ExecuteTime": {
     "end_time": "2024-02-16T04:24:12.086862Z",
     "start_time": "2024-02-16T04:24:12.074871Z"
    }
   },
   "outputs": [],
   "source": [
    "comp_loc_task = tg.read_task('outputs/tasks/comp_loc_task.json')"
   ]
  },
  {
   "attachments": {},
   "cell_type": "markdown",
   "metadata": {},
   "source": [
    "- Visualize the graph network of the task\n",
    "    - To visualize the graph we must first get the graph object from the task object"
   ]
  },
  {
   "cell_type": "code",
   "execution_count": 11,
   "metadata": {
    "ExecuteTime": {
     "end_time": "2024-02-16T04:24:18.001204Z",
     "start_time": "2024-02-16T04:24:15.840408Z"
    }
   },
   "outputs": [],
   "source": [
    "G = comp_loc_task.to_graph()\n",
    "comp_loc_task.draw_graph('outputs/tasks/comp_loc_task_.png', G)"
   ]
  },
  {
   "cell_type": "code",
   "execution_count": 12,
   "metadata": {
    "ExecuteTime": {
     "end_time": "2024-02-16T04:27:02.658844Z",
     "start_time": "2024-02-16T04:27:02.641754Z"
    },
    "collapsed": false
   },
   "outputs": [
    {
     "data": {
      "image/png": "[encoded data removed]",
      "text/plain": [
       "<IPython.core.display.Image object>"
      ]
     },
     "execution_count": 12,
     "metadata": {},
     "output_type": "execute_result"
    }
   ],
   "source": [
    "from IPython.display import Image\n",
    "Image('outputs/tasks/comp_loc_task_.png')"
   ]
  }
 ],
 "metadata": {
  "kernelspec": {
   "display_name": "bashlab_cogenv",
   "language": "python",
   "name": "python3"
  },
  "language_info": {
   "codemirror_mode": {
    "name": "ipython",
    "version": 3
   },
   "file_extension": ".py",
   "mimetype": "text/x-python",
   "name": "python",
   "nbconvert_exporter": "python",
   "pygments_lexer": "ipython3",
   "version": "3.11.8"
  },
  "orig_nbformat": 4
 },
 "nbformat": 4,
 "nbformat_minor": 2
}
