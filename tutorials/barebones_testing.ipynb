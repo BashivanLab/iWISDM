{
 "cells": [
  {
   "cell_type": "markdown",
   "metadata": {},
   "source": [
    "# Neural Network Modeling with MULTFS\n",
    "\n",
    "#### Overview:\n",
    "This notebook aims to provided an example of training a PyTorch Model on a premade task dataset\n",
    "- Text-embedder: ```all-mpnet-base-v2 (pretrained Sentence Transformer)```\n",
    "- Image-embedder: ```vit_b_16 (pretrained Vision Transformer)``` \n",
    "- Decoder/Classifier: Transformer Decoder only Model trained on both text and image embeddings to out put action class\n",
    "\n",
    "\n",
    "#### Datasets/Training:\n",
    "- In this notebook we use pre-saved and generated datasets\n",
    "    - *See the ..._dataset_gen.ipynb notebooks for how to generate and save a dataset*\n",
    "\n",
    "\n"
   ]
  },
  {
   "cell_type": "markdown",
   "metadata": {},
   "source": [
    "### Imports"
   ]
  },
  {
   "cell_type": "code",
   "execution_count": 16,
   "metadata": {},
   "outputs": [],
   "source": [
    "import sys\n",
    "sys.path.append('../')\n",
    "\n",
    "import numpy as np\n",
    "import os\n",
    "from PIL import Image\n",
    "import json\n",
    "import math\n",
    "import copy\n",
    "from sklearn.model_selection import train_test_split\n",
    "\n",
    "import torch\n",
    "import torch.nn.functional as F\n",
    "from torch.utils.data import Dataset, DataLoader\n",
    "from transformers import AutoTokenizer, AutoModel\n",
    "import torchvision\n",
    "from tqdm.notebook import tqdm\n",
    "\n",
    "from cognitive.task_bank import CompareLocTemporal\n",
    "from cognitive import task_generator as tg\n",
    "from cognitive import constants as const\n",
    "from cognitive import stim_generator as sg\n",
    "from cognitive import info_generator as ig\n",
    "import random"
   ]
  },
  {
   "cell_type": "markdown",
   "metadata": {},
   "source": [
    "### Constants"
   ]
  },
  {
   "cell_type": "code",
   "execution_count": 57,
   "metadata": {},
   "outputs": [
    {
     "name": "stdout",
     "output_type": "stream",
     "text": [
      "cuda\n"
     ]
    }
   ],
   "source": [
    "TRAIN_DIR = '../datasets/train_2'  # Training Dataset Directory\n",
    "VAL_DIR = '../datasets/val_2'  # Validation Dataset Directory\n",
    "TEST_DIR = '../datasets/test'  # Testing Dataset Directory\n",
    "LM_PATH = 'offline_models/all-mpnet-base-v2'\n",
    "IMGM_PATH = 'offline_models/resnet/resnet'\n",
    "EMB_DIR = '../datasets/embeddings'\n",
    "BATCH_SIZE = 16\n",
    "MAX_FRAMES = 2  # the max possible frames across tasks\n",
    "IMGM_OUT_DIM = 2048 # vision transformer output dimension\n",
    "LM_OUT_DIM = 768 # language model output dimension\n",
    "\n",
    "device = torch.device(\"cuda\" if torch.cuda.is_available() else \"cpu\") \n",
    "print(device)"
   ]
  },
  {
   "cell_type": "markdown",
   "metadata": {
    "jp-MarkdownHeadingCollapsed": true,
    "tags": []
   },
   "source": [
    "# Datasets\n",
    "- Read in the pregenerated task trials organized into frames, instructions, and correct actions. "
   ]
  },
  {
   "cell_type": "code",
   "execution_count": 18,
   "metadata": {},
   "outputs": [],
   "source": [
    "def read_trials(path):\n",
    "    frames = []\n",
    "    infos = []\n",
    "\n",
    "    for trial_fp in os.listdir(path):\n",
    "        if 'trial' not in trial_fp:\n",
    "            continue\n",
    "\n",
    "        trial_fp = os.path.join(path, trial_fp)\n",
    "        imgs = []\n",
    "        info = None\n",
    "        \n",
    "        for fp in os.listdir(trial_fp):\n",
    "            fp = os.path.join(trial_fp, fp)\n",
    "            \n",
    "            if fp[-4:] == '.png':\n",
    "                img = np.rollaxis(np.array(Image.open(fp), dtype=np.float32),2,0)\n",
    "                imgs.append(img)\n",
    "            elif 'trial_info' in fp:\n",
    "                info = json.load(open(fp))\n",
    "                infos.append(info)\n",
    "                \n",
    "        if len(imgs) > MAX_FRAMES:\n",
    "            raise Exception(trial_fp + \" contains more frames than the set maximum (MAX_FRAMES) !!!\")\n",
    "        elif len(imgs) != len(info['answers']):\n",
    "            raise Exception(trial_fp + \" numbers of frames does not match number of actions\")\n",
    "            \n",
    "        frames.append(np.array(imgs))\n",
    "\n",
    "    return frames, infos\n",
    "\n",
    "train_frames, train_infos = read_trials(TRAIN_DIR)\n",
    "val_frames, val_infos = read_trials(VAL_DIR)"
   ]
  },
  {
   "cell_type": "code",
   "execution_count": 19,
   "metadata": {},
   "outputs": [],
   "source": [
    "train_ins = [x['instruction'] for x in train_infos]\n",
    "train_raw_targets = [x['answers'] for x in train_infos]\n",
    "\n",
    "val_ins = [x['instruction'] for x in val_infos]\n",
    "val_raw_targets = [x['answers'] for x in val_infos]"
   ]
  },
  {
   "cell_type": "markdown",
   "metadata": {},
   "source": [
    "### Encode Target Actions\n",
    "- Encodes the target actions into one hot encoding vectors corresponding to the actions ```true, false, and null```"
   ]
  },
  {
   "cell_type": "code",
   "execution_count": 20,
   "metadata": {},
   "outputs": [
    {
     "name": "stdout",
     "output_type": "stream",
     "text": [
      "{'true': 2022, 'false': 1978}\n",
      "{'true': 297, 'false': 303}\n"
     ]
    }
   ],
   "source": [
    "action_map = {'true': 0, 'false': 1}\n",
    "\n",
    "def map_actions(amap, raw_actions):\n",
    "    count = {'true': 0, 'false': 0}\n",
    "    target_actions = []\n",
    "\n",
    "    for actions in raw_actions:\n",
    "        encoded = []\n",
    "        count[actions[-1]] += 1\n",
    "        encoded.append(amap[actions[1]])\n",
    "        target_actions.append(np.array(encoded))\n",
    "    \n",
    "    return target_actions, count\n",
    "\n",
    "train_targets, train_targets_count = map_actions(action_map, train_raw_targets)\n",
    "val_targets, val_targets_count = map_actions(action_map, val_raw_targets)\n",
    "\n",
    "print(train_targets_count)\n",
    "print(val_targets_count)"
   ]
  },
  {
   "cell_type": "code",
   "execution_count": 21,
   "metadata": {},
   "outputs": [
    {
     "data": {
      "text/plain": [
       "{'true': 297, 'false': 303}"
      ]
     },
     "execution_count": 21,
     "metadata": {},
     "output_type": "execute_result"
    }
   ],
   "source": [
    "train_targets_count\n",
    "val_targets_count"
   ]
  },
  {
   "cell_type": "markdown",
   "metadata": {
    "jp-MarkdownHeadingCollapsed": true,
    "tags": []
   },
   "source": [
    "## Instruction Dataset"
   ]
  },
  {
   "cell_type": "code",
   "execution_count": 22,
   "metadata": {},
   "outputs": [],
   "source": [
    "class InstructionsDataset(Dataset):\n",
    "  \"\"\"\n",
    "    Pytorch Dataset class to load the Instructions Data\n",
    "\n",
    "    Data members:\n",
    "      instructions: list of instructions\n",
    "      n_ins: number of instructions in the dataset\n",
    "\n",
    "    Member functions:\n",
    "      __init__: ctor\n",
    "      __len__: returns n_ins\n",
    "      __getitem__: returns an instruction\n",
    "  \"\"\"\n",
    "\n",
    "  def __init__(self, x):\n",
    "\n",
    "    self.instructions = x\n",
    "\n",
    "    self.n_ins = len(self.instructions)\n",
    "\n",
    "    return\n",
    "\n",
    "  def __len__(self):\n",
    "    \"\"\"\n",
    "      Returns number of instructions in the Dataset\n",
    "    \"\"\"\n",
    "\n",
    "    return self.n_ins\n",
    "\n",
    "  def __getitem__(self, idx):\n",
    "    \"\"\"\n",
    "      Given an index return a instruction at that index\n",
    "    \"\"\"\n",
    "\n",
    "    return self.instructions[idx]"
   ]
  },
  {
   "cell_type": "code",
   "execution_count": 23,
   "metadata": {},
   "outputs": [],
   "source": [
    "class InstructionsCollator(object):\n",
    "  \"\"\"\n",
    "    Data Collator used for GPT2 in a classificaiton tasks\n",
    "\n",
    "    Args:\n",
    "      use_tokenizer :\n",
    "        Transformer type tokenizer used to process raw text into numbers.\n",
    "\n",
    "    Data members:\n",
    "      use_tokenizer: Tokenizer to be used inside the class.\n",
    "\n",
    "    Member functions:\n",
    "      __init__: ctor\n",
    "      __call__: tokenize input\n",
    "\n",
    "    \"\"\"\n",
    "\n",
    "  def __init__(self, use_tokenizer):\n",
    "\n",
    "    self.use_tokenizer = use_tokenizer\n",
    "\n",
    "    return\n",
    "\n",
    "  def __call__(self, instructions):\n",
    "    \"\"\"\n",
    "        Tokenizes input\n",
    "    \"\"\"\n",
    "\n",
    "    # Call tokenizer\n",
    "    inputs = self.use_tokenizer(instructions, padding=True, truncation=True, return_tensors='pt').to(device)\n",
    "\n",
    "    return inputs\n"
   ]
  },
  {
   "cell_type": "code",
   "execution_count": 24,
   "metadata": {},
   "outputs": [],
   "source": [
    "# Pretrained Language Model and Tokenizer \n",
    "# lm_encoder = AutoModel.from_pretrained('sentence-transformers/all-mpnet-base-v2').to(device).eval()\n",
    "# tokenizer = AutoTokenizer.from_pretrained('sentence-transformers/all-mpnet-base-v2')\n",
    "\n",
    "# Uncomment for offline load of lang embedder\n",
    "lm_encoder = AutoModel.from_pretrained('offline_models/all-mpnet-base-v2').to(device).eval()\n",
    "tokenizer = AutoTokenizer.from_pretrained('offline_models/all-mpnet-base-v2')\n",
    "\n",
    "# Create data collator to encode text and labels into numbers.\n",
    "InstructionsCollator = InstructionsCollator(use_tokenizer=tokenizer)\n",
    "\n",
    "# Create pytorch datasets for instructions\n",
    "ins_train_dataset = InstructionsDataset(train_ins)\n",
    "ins_val_dataset = InstructionsDataset(val_ins)\n",
    "\n",
    "# Move pytorch datasets into dataloaders\n",
    "ins_train_dataloader = DataLoader(ins_train_dataset, batch_size=1, shuffle=False, collate_fn=InstructionsCollator)\n",
    "ins_val_dataloader = DataLoader(ins_val_dataset, batch_size=1, shuffle=False, collate_fn=InstructionsCollator)\n"
   ]
  },
  {
   "cell_type": "markdown",
   "metadata": {
    "jp-MarkdownHeadingCollapsed": true,
    "tags": []
   },
   "source": [
    "## Frames Dataset"
   ]
  },
  {
   "cell_type": "code",
   "execution_count": 25,
   "metadata": {},
   "outputs": [],
   "source": [
    "class FramesDataset(Dataset):\n",
    "  \"\"\"\n",
    "    Pytorch Dataset class to load the Frame Data\n",
    "\n",
    "    Data members:\n",
    "      frames``ist of frames\n",
    "      n_imgs: number of iamges in the dataset\n",
    "\n",
    "    Member functions:\n",
    "      __init__: ctor\n",
    "      __len__: returns n_imgs\n",
    "      __getitem__: returns an frame\n",
    "  \"\"\"\n",
    "\n",
    "  def __init__(self, x):\n",
    "\n",
    "    self.frames = x\n",
    "\n",
    "    self.n_imgs = len(self.frames)\n",
    "\n",
    "    return\n",
    "\n",
    "  def __len__(self):\n",
    "    \"\"\"\n",
    "      Returns number of frames in the Dataset\n",
    "    \"\"\"\n",
    "\n",
    "    return self.n_imgs\n",
    "\n",
    "  def __getitem__(self, idx):\n",
    "    \"\"\"\n",
    "      Given an index return a frame\n",
    "    \"\"\"\n",
    "\n",
    "    return torch.tensor(self.frames[idx]).to(device)"
   ]
  },
  {
   "cell_type": "code",
   "execution_count": 26,
   "metadata": {},
   "outputs": [],
   "source": [
    "# Create pytorch datasets for instructions\n",
    "frames_train_dataset = FramesDataset(train_frames)\n",
    "frames_val_dataset = FramesDataset(val_frames)\n",
    "\n",
    "# Move pytorch datasets into dataloaders\n",
    "frames_train_dataloader = DataLoader(frames_train_dataset, batch_size=1, shuffle=False)\n",
    "frames_val_dataloader = DataLoader(frames_val_dataset, batch_size=1, shuffle=False)\n"
   ]
  },
  {
   "cell_type": "code",
   "execution_count": 27,
   "metadata": {},
   "outputs": [],
   "source": [
    "# from torchsummary import summary\n",
    "\n",
    "# list(img_encoder.named_children())[-2]\n",
    "# summary(torchvision.models.resnet50(weights=torchvision.models.ResNet50_Weights.DEFAULT), input_size=(3, 224, 224))"
   ]
  },
  {
   "cell_type": "markdown",
   "metadata": {
    "jp-MarkdownHeadingCollapsed": true,
    "tags": []
   },
   "source": [
    "# Language Encoder"
   ]
  },
  {
   "cell_type": "markdown",
   "metadata": {},
   "source": [
    "### Language Embedder"
   ]
  },
  {
   "cell_type": "code",
   "execution_count": 28,
   "metadata": {},
   "outputs": [],
   "source": [
    "def lm_embedder(instruction, encoder):\n",
    "    #Mean Pooling - Take attention mask into account for correct averaging\n",
    "    def mean_pooling(model_output, attention_mask):\n",
    "        token_embeddings = model_output[0] # First element of model_output contains all token embeddings\n",
    "        input_mask_expanded = attention_mask.unsqueeze(-1).expand(token_embeddings.size()).float()\n",
    "        return torch.sum(token_embeddings * input_mask_expanded, 1) / torch.clamp(input_mask_expanded.sum(1), min=1e-9)\n",
    "\n",
    "    # Compute token embeddings\n",
    "    with torch.no_grad():\n",
    "        lm_output = encoder(**instruction)\n",
    "\n",
    "    # Perform pooling\n",
    "    sentence_embeddings = mean_pooling(lm_output, instruction['attention_mask'])\n",
    "    \n",
    "    # Normalize embeddings\n",
    "    sentence_embeddings = F.normalize(sentence_embeddings, p=2, dim=1)\n",
    "        \n",
    "    return sentence_embeddings.repeat(MAX_FRAMES,1)"
   ]
  },
  {
   "cell_type": "markdown",
   "metadata": {
    "tags": []
   },
   "source": [
    "# Image Encoder"
   ]
  },
  {
   "cell_type": "markdown",
   "metadata": {},
   "source": [
    "### Image Embedder\n",
    "- We pad frames based on max possible"
   ]
  },
  {
   "cell_type": "code",
   "execution_count": 29,
   "metadata": {},
   "outputs": [],
   "source": [
    "# def img_embedder(frames, encoder):\n",
    "#     activation = {}\n",
    "#     def get_activation(name):\n",
    "#         def hook(model, input, output):\n",
    "#             activation[name] = output.detach()\n",
    "#         return hook\n",
    "    \n",
    "#     encoder.avgpool.register_forward_hook(get_activation('layer'))\n",
    "\n",
    "#     with torch.no_grad():\n",
    "#         encoder(torch.tensor(frames))\n",
    "#         out = torch.squeeze(activation['layer']) #torch.flatten(, start_dim=1, end_dim=2)\n",
    "#         out = F.normalize(out, dim=1)\n",
    "\n",
    "#     return out\n",
    "\n",
    "def img_embedder(frames, encoder):\n",
    "    activation = {}\n",
    "    def get_activation(name):\n",
    "        def hook(model, input, output):\n",
    "            activation[name] = output.detach()\n",
    "        return hook\n",
    "    \n",
    "    encoder.avgpool.register_forward_hook(get_activation('layer'))\n",
    "\n",
    "    with torch.no_grad():\n",
    "        out = encoder(torch.tensor(frames).to(device))\n",
    "        out = torch.squeeze(activation['layer']) #torch.flatten(, start_dim=1, end_dim=2)\n",
    "        out = F.normalize(out, dim=1).flatten()\n",
    "    return out.cpu().numpy()"
   ]
  },
  {
   "cell_type": "markdown",
   "metadata": {
    "tags": []
   },
   "source": [
    "# Create Embeddings"
   ]
  },
  {
   "cell_type": "code",
   "execution_count": 30,
   "metadata": {},
   "outputs": [],
   "source": [
    "\n",
    "# train_lm_embeddings = []\n",
    "# train_img_embeddings = []\n",
    "\n",
    "# val_lm_embeddings = []\n",
    "# val_img_embeddings = []\n",
    "\n",
    "# for train_i,train_f in zip(ins_train_dataloader,frames_train_dataloader):\n",
    "#     train_f = train_f[0]\n",
    "\n",
    "#     train_lm_embeddings.append(lm_embedder(train_i, lm_encoder).cpu())\n",
    "#     train_img_embeddings.append(img_embedder(train_f, img_encoder).cpu())\n",
    "\n",
    "# for val_i,val_f in zip(ins_val_dataloader,frames_val_dataloader):\n",
    "#     val_f = val_f[0]\n",
    "\n",
    "#     val_lm_embeddings.append(lm_embedder(val_i, lm_encoder).cpu())\n",
    "#     val_img_embeddings.append(img_embedder(val_f, img_encoder).cpu())\n",
    "\n",
    "# Pretrained Vision Transformer\n",
    "# img_encoder = torchvision.models.vit_b_16(weights=torchvision.models.ViT_B_16_Weights.DEFAULT).to(device)\n",
    "# img_encoder = torchvision.models.resnet50(weights=torchvision.models.ResNet50_Weights.DEFAULT).to(device).eval()\n",
    "\n",
    "# Uncommnent for offline load of vit\n",
    "img_encoder = torch.load(IMGM_PATH, map_location=device).to(device)\n",
    "\n",
    "img_encoder.eval()\n",
    "\n",
    "# train_frames = np.load('../datasets/train_frames.npy') \n",
    "# val_frames = np.load('../datasets/val_frames.npy')\n",
    "# train_targets = np.load('../datasets/train_targets.npy')\n",
    "# val_targets = np.load('../datasets/val_targets.npy')\n",
    "\n",
    "train_img_embeddings = []\n",
    "val_img_embeddings = []\n",
    "\n",
    "for train_f in train_frames:             \n",
    "    train_img_embeddings.append(img_embedder(train_f, img_encoder))\n",
    "\n",
    "for val_f in val_frames:\n",
    "    val_img_embeddings.append(img_embedder(val_f, img_encoder))\n"
   ]
  },
  {
   "cell_type": "markdown",
   "metadata": {},
   "source": [
    "# Embeddings Dataset"
   ]
  },
  {
   "cell_type": "code",
   "execution_count": 31,
   "metadata": {},
   "outputs": [],
   "source": [
    "class EmbeddingsDataset(Dataset):\n",
    "  \"\"\"\n",
    "    Pytorch Dataset class to load the embedded data\n",
    "\n",
    "    Data members:\n",
    "      lm_embeddings: list of language model embeddings\n",
    "      img_embeddings: list of language model embeddings\n",
    "      n_embs: number of embeddings in the dataset\n",
    "\n",
    "    Member functions:\n",
    "      __init__: ctor\n",
    "      __len__: returns n_ins\n",
    "      __getitem__: returns an instruction\n",
    "  \"\"\"\n",
    "\n",
    "  def __init__(self, lm_embeddings, img_embeddings, actions):\n",
    "\n",
    "    self.lm_embeddings = lm_embeddings\n",
    "    self.img_embeddings = img_embeddings\n",
    "    self.actions = actions\n",
    "\n",
    "    self.n_embs = len(self.img_embeddings)\n",
    "\n",
    "    return\n",
    "\n",
    "  def __len__(self):\n",
    "    \"\"\"\n",
    "      Returns number of instructions in the Dataset\n",
    "    \"\"\"\n",
    "\n",
    "    return self.n_embs\n",
    "\n",
    "  def __getitem__(self, idx):\n",
    "    \"\"\"\n",
    "      Given an index return a instruction at that index\n",
    "    \"\"\"\n",
    "\n",
    "    return {'frames':self.img_embeddings[idx].to(device), 'actions':torch.tensor(self.actions[idx], dtype=torch.float32, device=device)}"
   ]
  },
  {
   "cell_type": "code",
   "execution_count": null,
   "metadata": {},
   "outputs": [],
   "source": []
  },
  {
   "cell_type": "code",
   "execution_count": 32,
   "metadata": {},
   "outputs": [],
   "source": [
    "# # Create pytorch dataset for train, val, test data\n",
    "# train_dataset = EmbeddingsDataset(train_lm_embeddings, train_img_embeddings, train_targets)\n",
    "# val_dataset = EmbeddingsDataset(val_lm_embeddings, val_img_embeddings, val_targets)\n",
    "\n",
    "# # Move pytorch datasets into dataloaders\n",
    "# train_dataloader = DataLoader(train_dataset, batch_size=BATCH_SIZE, shuffle=True)\n",
    "# val_dataloader = DataLoader(val_dataset, batch_size=BATCH_SIZE, shuffle=True)"
   ]
  },
  {
   "cell_type": "code",
   "execution_count": 33,
   "metadata": {},
   "outputs": [],
   "source": [
    "# train_embs = [np.array(x.flatten()) for x in train_img_embeddings] \n",
    "# val_embs = [np.array(x.flatten()) for x in val_img_embeddings]\n",
    "# train_targs = [np.array(x) for x in train_targets]\n",
    "# val_targs = [np.array(x) for x in val_targets]"
   ]
  },
  {
   "cell_type": "code",
   "execution_count": 34,
   "metadata": {},
   "outputs": [],
   "source": [
    "# train_embs = np.load('../datasets/train_embs.npy') \n",
    "# val_embs = np.load('../datasets/val_embs.npy') \n",
    "# train_targs = np.load('../datasets/train_targets.npy')\n",
    "# val_targs = np.load('../datasets/val_targets.npy')"
   ]
  },
  {
   "cell_type": "code",
   "execution_count": 35,
   "metadata": {},
   "outputs": [],
   "source": [
    "# CHECKING SVC ABILITY TO CLASSIFY\n",
    "\n",
    "from sklearn import datasets\n",
    "from sklearn.model_selection import train_test_split\n",
    "from sklearn.svm import SVC, LinearSVC\n",
    "from sklearn.metrics import accuracy_score\n",
    "\n",
    "from sklearn.preprocessing import StandardScaler\n",
    "\n",
    "sc = StandardScaler()\n",
    "train_frames_embs = sc.fit_transform(train_img_embeddings)\n",
    "val_frames_embs = sc.transform(val_img_embeddings)"
   ]
  },
  {
   "cell_type": "code",
   "execution_count": null,
   "metadata": {},
   "outputs": [
    {
     "name": "stderr",
     "output_type": "stream",
     "text": [
      "/home/lucasg/mlti-env/lib/python3.11/site-packages/sklearn/utils/validation.py:1184: DataConversionWarning: A column-vector y was passed when a 1d array was expected. Please change the shape of y to (n_samples, ), for example using ravel().\n",
      "  y = column_or_1d(y, warn=True)\n"
     ]
    },
    {
     "name": "stdout",
     "output_type": "stream",
     "text": [
      "Accuracy: 80.00%\n"
     ]
    }
   ],
   "source": [
    "# Step 3: Create an SVM classifier\n",
    "# You can choose different types of SVM (linear, rbf, polynomial, etc.) by changing the kernel parameter.\n",
    "# C is the regularization parameter; you can adjust it for your specific problem.\n",
    "svm_classifier = SVC(kernel='rbf', C=1.5, cache_size=8000, gamma='scale')\n",
    "\n",
    "# Step 4: Train the SVM classifier on the training data\n",
    "svm_classifier.fit(train_frames_embs, train_targets)\n",
    "\n",
    "# Step 5: Make predictions on the test data\n",
    "y_pred = svm_classifier.predict(val_frames_embs)\n",
    "\n",
    "# Step 6: Evaluate the model\n",
    "accuracy = accuracy_score(val_targets, y_pred)\n",
    "print(f\"Accuracy: {accuracy * 100:.2f}%\")"
   ]
  },
  {
   "cell_type": "code",
   "execution_count": 105,
   "metadata": {},
   "outputs": [
    {
     "data": {
      "text/plain": [
       "array([0])"
      ]
     },
     "execution_count": 105,
     "metadata": {},
     "output_type": "execute_result"
    }
   ],
   "source": [
    "train_embs = [torch.Tensor(x) for x in train_frames_embs]\n",
    "val_embs = [torch.Tensor(x) for x in val_frames_embs]"
   ]
  },
  {
   "cell_type": "code",
   "execution_count": 106,
   "metadata": {},
   "outputs": [],
   "source": [
    "# Create pytorch dataset for train, val, test data\n",
    "train_dataset = EmbeddingsDataset(None, train_embs, train_targets)\n",
    "val_dataset = EmbeddingsDataset(None, val_embs, val_targets)\n",
    "\n",
    "# Move pytorch datasets into dataloaders\n",
    "train_dataloader = DataLoader(train_dataset, batch_size=BATCH_SIZE, shuffle=False)\n",
    "val_dataloader = DataLoader(val_dataset, batch_size=BATCH_SIZE, shuffle=False)"
   ]
  },
  {
   "cell_type": "code",
   "execution_count": 107,
   "metadata": {},
   "outputs": [
    {
     "data": {
      "text/plain": [
       "array([0.], dtype=float32)"
      ]
     },
     "execution_count": 107,
     "metadata": {},
     "output_type": "execute_result"
    }
   ],
   "source": [
    "test_t_e = []\n",
    "test_t_a = []\n",
    "test_v_e = []\n",
    "test_v_a = []\n",
    "\n",
    "for x in train_dataloader:\n",
    "    for y in x['frames']:\n",
    "        test_t_e.append(y.cpu().numpy())\n",
    "    for z in x['actions']:\n",
    "        test_t_a.append(z.cpu().numpy())\n",
    "                                           \n",
    "for x in val_dataloader:\n",
    "    for y in x['frames']:\n",
    "        test_v_e.append(y.cpu().numpy()) \n",
    "    for z in x['actions']:\n",
    "        test_v_a.append(z.cpu().numpy())"
   ]
  },
  {
   "cell_type": "code",
   "execution_count": 108,
   "metadata": {},
   "outputs": [
    {
     "name": "stderr",
     "output_type": "stream",
     "text": [
      "/home/lucasg/mlti-env/lib/python3.11/site-packages/sklearn/utils/validation.py:1184: DataConversionWarning: A column-vector y was passed when a 1d array was expected. Please change the shape of y to (n_samples, ), for example using ravel().\n",
      "  y = column_or_1d(y, warn=True)\n"
     ]
    },
    {
     "name": "stdout",
     "output_type": "stream",
     "text": [
      "Accuracy: 80.00%\n"
     ]
    }
   ],
   "source": [
    "# Step 3: Create an SVM classifier\n",
    "# You can choose different types of SVM (linear, rbf, polynomial, etc.) by changing the kernel parameter.\n",
    "# C is the regularization parameter; you can adjust it for your specific problem.\n",
    "svm_classifier = SVC(kernel='rbf', C=1.5, cache_size=8000, gamma='scale')\n",
    "\n",
    "# Step 4: Train the SVM classifier on the training data\n",
    "svm_classifier.fit(test_t_e, test_t_a)\n",
    "\n",
    "# Step 5: Make predictions on the test data\n",
    "y_pred = svm_classifier.predict(test_v_e)\n",
    "\n",
    "# Step 6: Evaluate the model\n",
    "accuracy = accuracy_score(test_v_a, y_pred)\n",
    "print(f\"Accuracy: {accuracy * 100:.2f}%\")"
   ]
  },
  {
   "cell_type": "markdown",
   "metadata": {},
   "source": [
    "# Action Decoder"
   ]
  },
  {
   "cell_type": "code",
   "execution_count": 109,
   "metadata": {},
   "outputs": [],
   "source": [
    "from matplotlib import projections\n",
    "import math\n",
    "from typing import Tuple\n",
    "\n",
    "import torch\n",
    "from torch import nn, Tensor\n",
    "import torch.nn.functional as F\n",
    "from torch.utils.data import dataset\n",
    "\n",
    "class CausalMatchTransformer(nn.Module):\n",
    "    \"\"\"\n",
    "    Pytorch based transformer decoder model\n",
    "    \"\"\"\n",
    "\n",
    "    # Initialize Model with Params\n",
    "    def __init__(self, nframes=MAX_FRAMES, blocks=3, nhead=5, emb_dim=IMGM_OUT_DIM, classes=3, device=device):\n",
    "        super().__init__()\n",
    "\n",
    "        # Device\n",
    "        self.device = device\n",
    "\n",
    "        # Embedding Dimension\n",
    "        self.emb_dim = emb_dim\n",
    "\n",
    "        # Number of frames\n",
    "        self.nframes = nframes\n",
    "\n",
    "        # Frame Position Embedder Layer\n",
    "        # self.pos_emb = nn.Parameter(torch.Tensor(nframes,emb_dim)).to(device)\n",
    "        # torch.nn.init.xavier_uniform_(\n",
    "        #    self.pos_emb,\n",
    "        #    gain=torch.nn.init.calculate_gain(\"linear\"))\n",
    "        # self.pos_emb = PositionalEncoding(emb_dim, 0)\n",
    "\n",
    "        # Instruction Dim Projection Layer\n",
    "        # self.lm_linear_layer = nn.Linear(LM_OUT_DIM, emb_dim).to(device)\n",
    "        \n",
    "        # self.img_linear_layer = nn.Linear(IMGM_OUT_DIM, emb_dim)\n",
    "\n",
    "        # Decoder Layers\n",
    "        # self.decoder_layer = nn.TransformerDecoderLayer(d_model=emb_dim, nhead=nhead, batch_first=True).to(device)\n",
    "        # self.decoder_layers = _get_clones(self.decoder_layer, blocks)\n",
    "        \n",
    "        # self.encoder_layer = nn.TransformerEncoderLayer(d_model=emb_dim, nhead=nhead, batch_first=True).to(device)\n",
    "        # self.encoder = nn.TransformerEncoder(self.encoder_layer, num_layers=blocks).to(device)\n",
    "        \n",
    "        # Decoder\n",
    "        # self.decoder = nn.TransformerDecoder(self.decoder_layer, num_layers=blocks).to(device)\n",
    "        \n",
    "        self.mlp = nn.Sequential(\n",
    "                        nn.Linear(emb_dim, 100),\n",
    "                        nn.ReLU(),\n",
    "                        nn.Linear(100,2)\n",
    "                        # nn.Linear(50, 128),\n",
    "                        # nn.ReLU(),\n",
    "\n",
    "                        # nn.Linear(128, 64),\n",
    "                        # nn.ReLU(),\n",
    "                        # nn.Linear(64,2)\n",
    "                    )\n",
    "        \n",
    "        # self.linear = nn.Linear(emb_dim, 224)\n",
    "        # Action classifier\n",
    "        # self.classifier = nn.Linear(emb_dim, classes).to(device)\n",
    "\n",
    "    # Function for forward pass\n",
    "    def forward(self, instruction, frames, mask, padding_mask):\n",
    "\n",
    "        # Project instruction embedding\n",
    "        # instruction = self.lm_linear_layer(instruction)\n",
    "        \n",
    "        # frames = self.img_linear_layer(frames)\n",
    "\n",
    "        # Add the frame position embedding\n",
    "        # for i in range(len(frames)):\n",
    "        #     frames[i] += self.pos_emb[i,:]\n",
    "        # frames = self.pos_emb(frames)\n",
    "\n",
    "        # output = self.encoder(frames)#, memory_mask=mask, memory_key_padding_mask=padding_mask, )\n",
    "        # output = self.decoder(frames, instruction)\n",
    "        \n",
    "#         output = output[:,-1,:]\n",
    "        # output = output.mean(dim=1)\n",
    "\n",
    "        # Pass through linear layer for classification\n",
    "        # output = self.linear(frames)\n",
    "        # output = output.mean(dim=1)\n",
    "        # output = self.classifier(output)\n",
    "        \n",
    "        output= self.mlp(frames)\n",
    "\n",
    "        return output\n",
    " \n",
    "# Creates a list of torch duplicate torch modules\n",
    "def _get_clones(module, N):\n",
    "    return nn.ModuleList([copy.deepcopy(module) for i in range(N)])\n",
    "\n",
    "# Creates a square Sequential/Causal mask of size sz\n",
    "def generate_causal_mask(sz: int) -> Tensor:\n",
    "    return torch.triu(torch.ones(sz, sz) * float('-inf'), diagonal=1)\n",
    "\n",
    "# Generates a padding masks for each sequence in a batch\n",
    "def generate_pad_mask(batch):\n",
    "\n",
    "    pad_tensor = torch.ones((batch.shape[2])).to(device)\n",
    "\n",
    "    mask = np.zeros((batch.shape[0],batch.shape[1]))\n",
    "\n",
    "    for s in range(0, batch.shape[0]):\n",
    "        for v in range(0, batch[s].shape[0]):\n",
    "            new_s = torch.all(batch[s][v] == pad_tensor)\n",
    "            mask[s][v] = new_s\n",
    "    return torch.tensor(mask).bool().to(device)\n",
    "\n",
    "class PositionalEncoding(nn.Module):\n",
    "    # Positional encoding module taken from PyTorch Tutorial\n",
    "    # Link: https://pytorch.org/tutorials/beginner/transformer_tutorial.html\n",
    "\n",
    "    def __init__(self, d_model: int, dropout: float = 0.1, max_len: int = 5000):\n",
    "        super().__init__()\n",
    "        self.dropout = nn.Dropout(p=dropout)\n",
    "\n",
    "        position = torch.arange(max_len).unsqueeze(1)\n",
    "        div_term = torch.exp(torch.arange(0, d_model, 2) * (-math.log(10000.0) / d_model))\n",
    "        pe = torch.zeros(max_len, 1, d_model)\n",
    "        pe[:, 0, 0::2] = torch.sin(position * div_term)\n",
    "        pe[:, 0, 1::2] = torch.cos(position * div_term)\n",
    "        self.register_buffer('pe', pe)\n",
    "\n",
    "    def forward(self, x: Tensor) -> Tensor:\n",
    "        \"\"\"\n",
    "        Args:\n",
    "            x: Tensor, shape [seq_len, batch_size, embedding_dim]\n",
    "        \"\"\"\n",
    "        x = x + self.pe[:x.size(0)]\n",
    "        return self.dropout(x)"
   ]
  },
  {
   "cell_type": "code",
   "execution_count": 110,
   "metadata": {},
   "outputs": [],
   "source": [
    "torch.cuda.empty_cache()\n",
    "model = CausalMatchTransformer(nframes=1,\n",
    "                               blocks=1,\n",
    "                               nhead=4,\n",
    "                               emb_dim=IMGM_OUT_DIM*2,\n",
    "                               classes=len(action_map.keys()),\n",
    "                               device=device).float().to(device)\n",
    "\n"
   ]
  },
  {
   "cell_type": "markdown",
   "metadata": {},
   "source": [
    "# Training"
   ]
  },
  {
   "cell_type": "markdown",
   "metadata": {},
   "source": [
    "## Pre-generated"
   ]
  },
  {
   "cell_type": "code",
   "execution_count": 111,
   "metadata": {},
   "outputs": [],
   "source": [
    "# Training configurations\n",
    "epochs = 10\n",
    "# weights = [4, 4, 0.5]\n",
    "# class_weights = torch.FloatTensor(weights)\n",
    "# criterion = nn.CrossEntropyLoss(weight=class_weights, reduction='mean')\n",
    "criterion = nn.CrossEntropyLoss()\n",
    "\n",
    "lr = 1e-6\n",
    "optimizer = torch.optim.Adam(\n",
    "    (p for p in model.parameters() if p.requires_grad), lr=lr)\n",
    "\n",
    "mask = generate_causal_mask(MAX_FRAMES).to(device)"
   ]
  },
  {
   "cell_type": "code",
   "execution_count": null,
   "metadata": {
    "tags": []
   },
   "outputs": [
    {
     "name": "stdout",
     "output_type": "stream",
     "text": [
      "starting\n",
      "epoch=0\n",
      "epoch=1\n",
      "0.5122\n",
      "0.5117\n",
      "epoch=2\n",
      "epoch=3\n",
      "0.5282\n",
      "0.5217\n",
      "epoch=4\n",
      "epoch=5\n",
      "0.5445\n",
      "0.5333\n",
      "epoch=6\n",
      "epoch=7\n"
     ]
    }
   ],
   "source": [
    "# Training and validation loop\n",
    "\n",
    "# Store the average loss after each epoch\n",
    "all_loss = {'train_loss':[], 'val_loss':[]}\n",
    "all_acc = {'train_acc':[], 'val_acc':[]}\n",
    "\n",
    "print(\"starting\")\n",
    "for epoch in range(epochs):\n",
    "    print(f\"epoch={epoch}\")\n",
    "\n",
    "    # Epoch stat trackers\n",
    "    # epoch_null_loss = 0\n",
    "    # epoch_non_null_loss = 0\n",
    "    # epoch_correct_null = 0\n",
    "    # epoch_correct_non_null = 0\n",
    "    # epoch_count_null = 0\n",
    "    # epoch_count_non_null = 0\n",
    "    # epoch_count = 0\n",
    "    \n",
    "    epoch_correct = 0\n",
    "    epoch_count = 0\n",
    "    epoch_loss = 0\n",
    "    \n",
    "    for idx, batch in enumerate(iter(train_dataloader)):\n",
    "\n",
    "        # Inputs and Targets\n",
    "        instructions =  None #batch['instructions']\n",
    "        frames = batch['frames']\n",
    "        targets = batch['actions']\n",
    "        \n",
    "\n",
    "        # Frame Padding\n",
    "        padding_mask = None #generate_pad_mask(batch=frames)\n",
    "        # pad_indexes = np.argwhere(np.array(padding_mask.cpu()) == True)[:,1]\n",
    "        # pad_indexes = MAX_FRAMES if len(pad_indexes) == 0 else pad_indexes\n",
    "        \n",
    "        # Get predictions\n",
    "        predictions = model(instructions, frames, mask, padding_mask)\n",
    "        \n",
    "        # Get Loss for both null and non-null actions\n",
    "        # non_null_loss = criterion(predictions, targets.long())\n",
    "        # null_loss, non_null_loss, scale = loss(predictions, targets.long())\n",
    "        # total_loss = null_loss*scale + non_null_loss*(1/scale)\n",
    "        total_loss = criterion(predictions, targets.squeeze(1).long())\n",
    "\n",
    "        # Track stats\n",
    "        correct = predictions.argmax(dim=-1) == targets.squeeze(1)\n",
    "        \n",
    "        epoch_correct += correct.sum().item()\n",
    "        epoch_count += correct.size(0)\n",
    "        epoch_loss += total_loss.item()\n",
    "    \n",
    " \n",
    "#         epoch_correct_non_null += (predictions.argmax(dim=-1).cpu() == targets.cpu()).sum().item()\n",
    "#         epoch_count_non_null += (predictions.argmax(dim=-1).cpu() == targets.cpu()).size(0)\n",
    "        \n",
    "#         correct_counts = correct(predictions.argmax(dim=-1).cpu(), targets.cpu())\n",
    "#         epoch_correct_null += correct_counts[0]\n",
    "#         epoch_count_null += correct_counts[1]\n",
    "#         epoch_correct_non_null += correct_counts[2]\n",
    "#         epoch_count_non_null += correct_counts[3]\n",
    "        \n",
    "        # epoch_null_loss += null_loss.item()\n",
    "        # epoch_non_null_loss += non_null_loss.item()\n",
    "\n",
    "        # Backward pass\n",
    "        total_loss.backward()\n",
    "        torch.nn.utils.clip_grad_norm_(model.parameters(), 0.5)\n",
    "        optimizer.step()\n",
    "        \n",
    "        \n",
    "    # Validate on validation set every 5 epochs\n",
    "    if (epoch+1) % 2 == 0 or epoch == epochs:\n",
    "        \n",
    "        # Turn off gradient calcs\n",
    "        with torch.no_grad():\n",
    "            # print(torch.norm(model.encoder.layers[-1].linear2.weight.grad))\n",
    "            # val_epoch_null_loss = 0\n",
    "            # val_epoch_non_null_loss = 0 \n",
    "            # val_epoch_correct_null = 0\n",
    "            # val_epoch_correct_non_null = 0\n",
    "            # val_epoch_count_null = 0\n",
    "            # val_epoch_count_non_null = 0\n",
    "            val_epoch_correct = 0\n",
    "            val_epoch_count = 0\n",
    "            val_epoch_loss = 0\n",
    "            \n",
    "            for idx, batch in enumerate(iter(val_dataloader)):\n",
    "                # Inputs and Targets\n",
    "                instructions = None # batch['instructions']\n",
    "                frames = batch['frames']\n",
    "                targets = batch['actions']\n",
    "\n",
    "                # Frame Padding\n",
    "                padding_mask = None # generate_pad_mask(batch=frames)\n",
    "                #pad_indexes = np.argwhere(np.array(padding_mask.cpu()) == True)[:,1]\n",
    "                #pad_indexes = MAX_FRAMES if len(pad_indexes) == 0 else pad_indexes\n",
    "\n",
    "                # Get predictions\n",
    "                predictions = model(instructions, frames, mask, padding_mask)\n",
    "\n",
    "                # Get Losses\n",
    "                # non_null_loss = criterion(predictions, targets.long())\n",
    "                # null_loss, non_null_loss, scale = loss(predictions, targets.long())\n",
    "                # total_loss = null_loss*scale + non_null_loss*(1/scale)\n",
    "\n",
    "                total_loss = criterion(predictions, targets.squeeze(1).long())\n",
    "                \n",
    "                \n",
    "                # Track Stats\n",
    "                correct = predictions.argmax(dim=-1) == targets.squeeze(1)\n",
    "        \n",
    "                val_epoch_correct += correct.sum().item()\n",
    "                val_epoch_count += correct.size(0)\n",
    "                val_epoch_loss += total_loss.item()\n",
    "\n",
    "                # val_epoch_correct_non_null += (predictions.argmax(dim=-1).cpu() == targets.cpu()).sum().item()\n",
    "                # val_epoch_count_non_null += (predictions.argmax(dim=-1).cpu() == targets.cpu()).size(0)\n",
    "                # val_correct_counts = correct(predictions.argmax(dim=-1).cpu(), targets.cpu())\n",
    "                # val_epoch_correct_null += val_correct_counts[0]\n",
    "                # val_epoch_count_null += val_correct_counts[1]\n",
    "                # val_epoch_correct_non_null += val_correct_counts[2]\n",
    "                # val_epoch_count_non_null += val_correct_counts[3]\n",
    "\n",
    "                # val_epoch_null_loss += null_loss.item()\n",
    "                # val_epoch_non_null_loss += non_null_loss.item()\n",
    "            \n",
    "\n",
    "        # Track loss and acc ever 5 epochs\n",
    "        avg_train_loss = epoch_loss / len(train_dataloader)\n",
    "        avg_val_loss = val_epoch_loss / len(val_dataloader)\n",
    "        \n",
    "        all_loss['train_loss'].append(round(avg_train_loss,4))\n",
    "        all_loss['val_loss'].append(round(avg_val_loss,4))\n",
    "        \n",
    "        all_acc['val_acc'].append(round(val_epoch_correct / val_epoch_count,4))\n",
    "        all_acc['train_acc'].append(round(epoch_correct / epoch_count,4))\n",
    "        \n",
    "        \n",
    "        # avg_train_null_loss = epoch_null_loss / len(train_dataloader)\n",
    "        # avg_train_non_null_loss = epoch_non_null_loss / len(train_dataloader)\n",
    "        # avg_val_null_loss = val_epoch_null_loss / len(val_dataloader)\n",
    "        # avg_val_non_null_loss = val_epoch_non_null_loss / len(val_dataloader)\n",
    "        \n",
    "        # all_loss['val_null_loss'].append(round(avg_val_null_loss,4))\n",
    "        # all_loss['val_non_null_loss'].append(round(avg_val_non_null_loss,4))\n",
    "        # all_acc['val_null_acc'].append(round(val_epoch_correct_null / val_epoch_count_null,4))\n",
    "        # all_acc['val_non_null_acc'].append(round(val_epoch_correct_non_null / val_epoch_count_non_null,4))\n",
    "        \n",
    "        # all_loss['train_null_loss'].append(round(avg_train_null_loss,4))\n",
    "        # all_loss['train_non_null_loss'].append(round(avg_train_non_null_loss,4))\n",
    "        # all_acc['train_null_acc'].append(round(epoch_correct_null / epoch_count_null,4))\n",
    "        # all_acc['train_non_null_acc'].append(round(epoch_correct_non_null / epoch_count_non_null,4))\n",
    "\n",
    "        print(all_acc['train_acc'][-1])\n",
    "        print(all_acc['val_acc'][-1])"
   ]
  },
  {
   "cell_type": "code",
   "execution_count": 46,
   "metadata": {},
   "outputs": [],
   "source": [
    "import matplotlib.pyplot as plt\n",
    "\n",
    "def plot_dict(dict_arrays, use_xlabel='Epochs', use_ylabel='Value', use_title=None):\n",
    "    # Font size select custom or adjusted on `magnify` value.\n",
    "    font_size = np.interp(0.1, [0.1,1], [10.5,50])\n",
    "\n",
    "    # Font variables dictionary. Keep it in this format for future updates.\n",
    "    font_dict = dict(\n",
    "        family='DejaVu Sans',\n",
    "        color='black',\n",
    "        weight='normal',\n",
    "        size=font_size,\n",
    "        )\n",
    "\n",
    "    # Single plot figure.\n",
    "    plt.subplot(1, 2, 1)\n",
    "\n",
    "    # Use maximum length of steps. In case each arrya has different lengths.\n",
    "    max_steps = []\n",
    "\n",
    "    # Plot each array.\n",
    "    for index, (use_label, array) in enumerate(dict_arrays.items()):\n",
    "        # Set steps plotted on x-axis - we can use step if 1 unit has different value.\n",
    "        if 0 > 0:\n",
    "            # Offset all steps by start_step.\n",
    "            steps = np.array(range(0, len(array))) * 1 + 0\n",
    "            max_steps = steps if len(max_steps) < len(steps) else max_steps\n",
    "        else:\n",
    "            steps = np.array(range(1, len(array) + 1)) * 1\n",
    "            max_steps = steps if len(max_steps) < len(steps) else max_steps\n",
    "\n",
    "        # Plot array as a single line.\n",
    "        plt.plot(steps, array, linestyle=(['-'] * len(dict_arrays))[index], label=use_label)\n",
    "\n",
    "        # Plots points values.\n",
    "        if ([False] * len(dict_arrays))[index]:\n",
    "            # Loop through each point and plot the label.\n",
    "            for x, y in zip(steps, array):\n",
    "                # Add text label to plot.\n",
    "                plt.text(x, y, str(round(y, 3)), fontdict=font_dict)\n",
    "\n",
    "    # Set horizontal axis name.\n",
    "    plt.xlabel(use_xlabel, fontdict=font_dict)\n",
    "\n",
    "    # Use x ticks with steps or labels.\n",
    "    plt.xticks(max_steps, None, rotation=0)\n",
    "\n",
    "    # Set vertical axis name.\n",
    "    plt.ylabel(use_ylabel, fontdict=font_dict)\n",
    "\n",
    "    # Adjust both axis labels font size at same time.\n",
    "    plt.tick_params(labelsize=font_dict['size'])\n",
    "\n",
    "    # Place legend best position.\n",
    "    plt.legend(loc='best', fontsize=font_dict['size'])\n",
    "\n",
    "    # Adjust font for title.\n",
    "    font_dict['size'] *= 1.8\n",
    "\n",
    "    # Set title of figure.\n",
    "    plt.title(use_title, fontdict=font_dict)\n",
    "\n",
    "    # Rescale `magnify` to be used on inches.\n",
    "    magnify = 0.1\n",
    "    magnify *= 15\n",
    "\n",
    "    # Display grid depending on `use_grid`.\n",
    "    plt.grid(True)\n",
    "\n",
    "    # Make figure nice.\n",
    "    plt.tight_layout()\n",
    "\n",
    "    # Get figure object from plot.\n",
    "    fig = plt.gcf()\n",
    "\n",
    "    # Get size of figure.\n",
    "    figsize = fig.get_size_inches()\n",
    "\n",
    "    # Change size depending on height and width variables.\n",
    "    figsize = [figsize[0] * 3 * magnify, figsize[1] * 1 * magnify]\n",
    "\n",
    "    # Set the new figure size with magnify.\n",
    "    fig.set_size_inches(figsize)\n",
    "\n",
    "    return"
   ]
  },
  {
   "cell_type": "code",
   "execution_count": 47,
   "metadata": {
    "tags": []
   },
   "outputs": [
    {
     "data": {
      "image/png": "[encoded data removed]",
      "text/plain": [
       "<Figure size 2880x720 with 1 Axes>"
      ]
     },
     "metadata": {},
     "output_type": "display_data"
    }
   ],
   "source": [
    "plot_dict(all_acc)"
   ]
  },
  {
   "cell_type": "code",
   "execution_count": 48,
   "metadata": {},
   "outputs": [
    {
     "data": {
      "image/png": "[encoded data removed]",
      "text/plain": [
       "<Figure size 2880x720 with 1 Axes>"
      ]
     },
     "metadata": {},
     "output_type": "display_data"
    }
   ],
   "source": [
    "plot_dict(all_loss)"
   ]
  },
  {
   "cell_type": "markdown",
   "metadata": {
    "tags": []
   },
   "source": [
    "## Evaluating"
   ]
  },
  {
   "cell_type": "code",
   "execution_count": 33,
   "metadata": {},
   "outputs": [
    {
     "name": "stderr",
     "output_type": "stream",
     "text": [
      "/tmp/ipykernel_50335/245295339.py:38: UserWarning: To copy construct from a tensor, it is recommended to use sourceTensor.clone().detach() or sourceTensor.clone().detach().requires_grad_(True), rather than torch.tensor(sourceTensor).\n",
      "  return {'frames':self.img_embeddings[idx].to(device), 'actions':torch.tensor(self.actions[idx], dtype=torch.float32, device=device)}\n"
     ]
    },
    {
     "ename": "KeyError",
     "evalue": "'instruction'",
     "output_type": "error",
     "traceback": [
      "\u001b[0;31m---------------------------------------------------------------------------\u001b[0m",
      "\u001b[0;31mKeyError\u001b[0m                                  Traceback (most recent call last)",
      "Cell \u001b[0;32mIn[33], line 15\u001b[0m\n\u001b[1;32m     11\u001b[0m test_count_non_null \u001b[38;5;241m=\u001b[39m \u001b[38;5;241m0\u001b[39m\n\u001b[1;32m     13\u001b[0m \u001b[38;5;28;01mfor\u001b[39;00m idx, batch \u001b[38;5;129;01min\u001b[39;00m \u001b[38;5;28menumerate\u001b[39m(\u001b[38;5;28miter\u001b[39m(val_dataloader)):\n\u001b[1;32m     14\u001b[0m     \u001b[38;5;66;03m# Inputs and Targets\u001b[39;00m\n\u001b[0;32m---> 15\u001b[0m     instruction \u001b[38;5;241m=\u001b[39m \u001b[43mbatch\u001b[49m\u001b[43m[\u001b[49m\u001b[38;5;124;43m'\u001b[39;49m\u001b[38;5;124;43minstruction\u001b[39;49m\u001b[38;5;124;43m'\u001b[39;49m\u001b[43m]\u001b[49m\n\u001b[1;32m     16\u001b[0m     frames \u001b[38;5;241m=\u001b[39m batch[\u001b[38;5;124m'\u001b[39m\u001b[38;5;124mframes\u001b[39m\u001b[38;5;124m'\u001b[39m]\n\u001b[1;32m     17\u001b[0m     targets \u001b[38;5;241m=\u001b[39m batch[\u001b[38;5;124m'\u001b[39m\u001b[38;5;124mactions\u001b[39m\u001b[38;5;124m'\u001b[39m][:,\u001b[38;5;241m-\u001b[39m\u001b[38;5;241m1\u001b[39m]\n",
      "\u001b[0;31mKeyError\u001b[0m: 'instruction'"
     ]
    }
   ],
   "source": [
    "model.eval()\n",
    "\n",
    "val_epoch_correct_non_null = 0\n",
    "\n",
    "val_epoch_count_non_null = 0\n",
    "\n",
    "with torch.no_grad():\n",
    "    test_correct_null = 0\n",
    "    test_correct_non_null = 0\n",
    "    test_count_null = 0\n",
    "    test_count_non_null = 0\n",
    "\n",
    "    for idx, batch in enumerate(iter(val_dataloader)):\n",
    "        # Inputs and Targets\n",
    "        instruction = batch['instruction']\n",
    "        frames = batch['frames']\n",
    "        targets = batch['actions'][:,-1]\n",
    "        print(targets)\n",
    "\n",
    "        # Frame Padding\n",
    "        padding_mask = generate_pad_mask(batch=frames)\n",
    "        pad_indexes = np.argwhere(np.array(padding_mask.cpu()) == False)[:,1]\n",
    "\n",
    "        # Get predictions\n",
    "        predictions = model(instruction, frames, mask, padding_mask)\n",
    "        print(predictions)\n",
    "        predictions = predictions[:,pad_indexes]\n",
    "\n",
    "        # Get Losses\n",
    "        non_null_loss = criterion(predictions, targets.long())\n",
    "        # null_loss, non_null_loss, scale = loss(predictions, targets)\n",
    "        # total_loss = non_null_loss #null_loss*scale + non_null_loss*(1/scale)\n",
    "        # # total_loss = criterion(predictions.permute(0, 2, 1), targets.long())\n",
    "\n",
    "        # Track Stats\n",
    "        val_epoch_correct_non_null += (predictions.argmax(dim=-1).cpu() == targets.cpu()).sum().item()\n",
    "        val_epoch_count_non_null += (predictions.argmax(dim=-1).cpu() == targets.cpu()).size(0)\n",
    "\n",
    "print(\"Test Non-Null Accuracy: \", round(val_epoch_correct_non_null/val_epoch_count_non_null,4))"
   ]
  },
  {
   "cell_type": "code",
   "execution_count": null,
   "metadata": {},
   "outputs": [],
   "source": []
  }
 ],
 "metadata": {
  "kernelspec": {
   "display_name": "mlti kernel",
   "language": "python",
   "name": "mlti-env"
  },
  "language_info": {
   "codemirror_mode": {
    "name": "ipython",
    "version": 3
   },
   "file_extension": ".py",
   "mimetype": "text/x-python",
   "name": "python",
   "nbconvert_exporter": "python",
   "pygments_lexer": "ipython3",
   "version": "3.11.2"
  }
 },
 "nbformat": 4,
 "nbformat_minor": 4
}
