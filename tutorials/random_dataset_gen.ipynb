{
 "cells": [
  {
   "attachments": {},
   "cell_type": "markdown",
   "metadata": {},
   "source": [
    "# Creating and saving a randomly generated task dataset "
   ]
  },
  {
   "attachments": {},
   "cell_type": "markdown",
   "metadata": {},
   "source": [
    "### Imports"
   ]
  },
  {
   "cell_type": "code",
   "execution_count": 38,
   "metadata": {
    "ExecuteTime": {
     "end_time": "2024-02-16T04:36:40.431423Z",
     "start_time": "2024-02-16T04:36:40.427521Z"
    }
   },
   "outputs": [],
   "source": [
    "import sys\n",
    "sys.path.append('../')\n",
    "\n",
    "from cognitive import constants as const\n",
    "from cognitive.auto_task import auto_task_util as auto_task\n",
    "import os\n",
    "import glob\n",
    "import json\n",
    "import shutil\n",
    "\n",
    "import matplotlib.pyplot as plt\n",
    "import matplotlib.image as mpimg\n",
    "%matplotlib inline"
   ]
  },
  {
   "attachments": {},
   "cell_type": "markdown",
   "metadata": {},
   "source": [
    "### Parameter Initialization"
   ]
  },
  {
   "attachments": {},
   "cell_type": "markdown",
   "metadata": {},
   "source": [
    "- Here we initialize the parameters which control the random task generation"
   ]
  },
  {
   "cell_type": "code",
   "execution_count": 2,
   "metadata": {
    "ExecuteTime": {
     "end_time": "2024-02-16T04:27:43.895477Z",
     "start_time": "2024-02-16T04:27:43.704674Z"
    }
   },
   "outputs": [],
   "source": [
    "max_op = 5 # the depth of the task graph\n",
    "max_depth = 5 # the maximum number of operators in the task\n",
    "max_switch = 1 # the maximum number of switch operators in the task graph\n",
    "select_limit = True\n",
    "switch_threshold = 0.3 # chance to add switch operator \n",
    "boolean_ops = [\"IsSame\", \"And\"] # possible boolean operators for the task\n",
    "output_dir = '../datasets/trials' # the output directory\n",
    "stim_dir = '../data/shapenet_handpicked_val' # stimulus set\n",
    "n_tasks = 10 # number of tasks to be generated\n",
    "\n",
    "const.DATA = const.Data(dir_path=stim_dir, train=False)\n",
    "op_dict = auto_task.op_dict\n",
    "\n",
    "# Create the output directory\n",
    "if os.path.exists(output_dir):\n",
    "    shutil.rmtree(output_dir)\n",
    "os.makedirs(output_dir)"
   ]
  },
  {
   "attachments": {},
   "cell_type": "markdown",
   "metadata": {},
   "source": [
    "- Generate the random tasks and write them to the output directory"
   ]
  },
  {
   "cell_type": "code",
   "execution_count": 3,
   "metadata": {
    "ExecuteTime": {
     "end_time": "2024-02-16T04:27:46.881684Z",
     "start_time": "2024-02-16T04:27:46.431291Z"
    }
   },
   "outputs": [],
   "source": [
    "for i in range(n_tasks):\n",
    "    task_graph, task = auto_task.task_generator(max_switch,\n",
    "                                        switch_threshold,\n",
    "                                        max_op,\n",
    "                                        max_depth,\n",
    "                                        select_limit)\n",
    "\n",
    "    fp = os.path.join(output_dir, 'trial' + str(i))\n",
    "    auto_task.write_trial_instance(task[1], fp, 224, True)"
   ]
  },
  {
   "cell_type": "code",
   "execution_count": 47,
   "outputs": [
    {
     "name": "stdout",
     "output_type": "stream",
     "text": [
      "instruction  observe object 1, observe object 2, delay, observe object 3, observe object 4, if object of object 2 not equal object of object 3 , then location of object 1 , else location of object 4 ?\n",
      "answers:  ['null', 'null', 'null', 'null', 'top right']\n"
     ]
    },
    {
     "data": {
      "text/plain": "<Figure size 2000x1000 with 5 Axes>",
      "image/png": "[encoded data removed]"
     },
     "metadata": {},
     "output_type": "display_data"
    }
   ],
   "source": [
    "# display trial frame sequence\n",
    "images = []\n",
    "for img_path in sorted(glob.glob('../datasets/trials/trial7/*.png')):\n",
    "    images.append(mpimg.imread(img_path))\n",
    "\n",
    "plt.figure(figsize=(20,10))\n",
    "columns = 10\n",
    "for i, image in enumerate(images):\n",
    "    plt.subplot(len(images) // columns + 1, columns, i + 1)\n",
    "    plt.imshow(image)\n",
    "with open('../datasets/trials/trial7/trial_info') as f:\n",
    "    trial_info = json.load(f)\n",
    "print('instruction ', trial_info['instruction'])\n",
    "print('answers: ', trial_info['answers'])"
   ],
   "metadata": {
    "collapsed": false,
    "ExecuteTime": {
     "end_time": "2024-02-16T04:37:55.348338Z",
     "start_time": "2024-02-16T04:37:54.749737Z"
    }
   }
  },
  {
   "cell_type": "code",
   "execution_count": 48,
   "metadata": {
    "ExecuteTime": {
     "end_time": "2024-02-16T04:40:16.832800Z",
     "start_time": "2024-02-16T04:40:16.137598Z"
    }
   },
   "outputs": [],
   "source": [
    "import networkx as nx\n",
    "\n",
    "task_graph, task = auto_task.task_generator(max_switch,\n",
    "                                    switch_threshold,\n",
    "                                    max_op,\n",
    "                                    max_depth,\n",
    "                                    select_limit)   \n",
    "\n",
    "\n",
    "\n",
    "# G = task.to_graph()\n",
    "# task[1].draw_graph('rand_task_.png', task_graph)\n",
    "G, _, _ = task_graph\n",
    "G = G.reverse()\n",
    "\n",
    "A = nx.nx_agraph.to_agraph(G)\n",
    "A.draw(os.path.join(\"operator_graph.png\"), prog=\"dot\")\n",
    "\n",
    "fp = os.path.join(output_dir, 'trial')\n",
    "auto_task.write_trial_instance(task[1], fp, 224, True)"
   ]
  },
  {
   "cell_type": "code",
   "execution_count": 8,
   "metadata": {
    "ExecuteTime": {
     "end_time": "2024-02-16T04:29:02.701865Z",
     "start_time": "2024-02-16T04:29:02.684995Z"
    }
   },
   "outputs": [
    {
     "data": {
      "text/plain": "{'n_frames': 2,\n 'first_shareable': 2,\n 'avg_mem': 3,\n 'whens': {1: 'last1'},\n 'operator': {'name': 'GetLoc',\n  'child': [{'name': 'Select',\n    'child': [{'name': 'Loc', 'value': None},\n     {'name': 'SNCategory', 'value': None},\n     {'name': 'SNObject',\n      'value': None,\n      'category': {'name': 'SNCategory', 'value': None}},\n     {'name': 'SNViewAngle',\n      'value': None,\n      'sn_object': {'name': 'SNObject',\n       'value': None,\n       'category': {'name': 'SNCategory', 'value': None}}}],\n    'when': 'last1'}]}}"
     },
     "execution_count": 8,
     "metadata": {},
     "output_type": "execute_result"
    }
   ],
   "source": [
    "task[1].to_json('comp_loc_task_.json')"
   ]
  }
 ],
 "metadata": {
  "kernelspec": {
   "display_name": "bashlab_cogenv",
   "language": "python",
   "name": "python3"
  },
  "language_info": {
   "codemirror_mode": {
    "name": "ipython",
    "version": 3
   },
   "file_extension": ".py",
   "mimetype": "text/x-python",
   "name": "python",
   "nbconvert_exporter": "python",
   "pygments_lexer": "ipython3",
   "version": "3.8.17"
  },
  "orig_nbformat": 4
 },
 "nbformat": 4,
 "nbformat_minor": 2
}
