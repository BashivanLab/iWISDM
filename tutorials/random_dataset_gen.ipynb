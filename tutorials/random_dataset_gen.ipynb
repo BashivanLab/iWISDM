{
 "cells": [
  {
   "attachments": {},
   "cell_type": "markdown",
   "metadata": {},
   "source": [
    "# Creating and saving a randomly generated task dataset "
   ]
  },
  {
   "attachments": {},
   "cell_type": "markdown",
   "metadata": {},
   "source": [
    "### Imports"
   ]
  },
  {
   "cell_type": "code",
   "execution_count": 1,
   "metadata": {
    "ExecuteTime": {
     "end_time": "2024-02-16T04:36:40.431423Z",
     "start_time": "2024-02-16T04:36:40.427521Z"
    }
   },
   "outputs": [],
   "source": [
    "import sys\n",
    "sys.path.append('../')\n",
    "\n",
    "from wisdom import make\n",
    "from wisdom import read_write\n",
    "import wisdom.envs.shapenet.task_generator as tg\n",
    "\n",
    "import os\n",
    "import glob\n",
    "import json\n",
    "import shutil\n",
    "import matplotlib.pyplot as plt\n",
    "import matplotlib.image as mpimg\n",
    "%matplotlib inline"
   ]
  },
  {
   "attachments": {},
   "cell_type": "markdown",
   "metadata": {},
   "source": [
    "### Parameter Initialization"
   ]
  },
  {
   "attachments": {},
   "cell_type": "markdown",
   "metadata": {},
   "source": [
    "- Here we initialize the parameters which control the random task generation"
   ]
  },
  {
   "cell_type": "code",
   "execution_count": 21,
   "metadata": {
    "ExecuteTime": {
     "end_time": "2024-02-16T04:27:43.895477Z",
     "start_time": "2024-02-16T04:27:43.704674Z"
    }
   },
   "outputs": [
    {
     "name": "stdout",
     "output_type": "stream",
     "text": [
      "{'op_dict': {'Select': {'n_downstream': 4, 'downstream': ['GetLoc', 'GetCategory', 'GetObject'], 'same_children_op': False, 'min_depth': 1, 'min_op': 1}, 'GetCategory': {'n_downstream': 1, 'downstream': ['Select'], 'min_depth': 2, 'min_op': 2}, 'GetLoc': {'n_downstream': 1, 'downstream': ['Select'], 'min_depth': 2, 'min_op': 2}, 'GetObject': {'n_downstream': 1, 'downstream': ['Select'], 'min_depth': 2, 'min_op': 2}, 'IsSame': {'n_downstream': 2, 'downstream': ['GetLoc', 'GetCategory', 'GetObject', 'CONST'], 'sample_dist': [0.26666666666666666, 0.26666666666666666, 0.26666666666666666, 0.2], 'same_children_op': True, 'min_depth': 3, 'min_op': 7}, 'NotSame': {'n_downstream': 2, 'downstream': ['GetLoc', 'GetCategory', 'GetObject', 'CONST'], 'sample_dist': [0.26666666666666666, 0.26666666666666666, 0.26666666666666666, 0.2], 'same_children_op': True, 'min_depth': 3, 'min_op': 7}, 'And': {'n_downstream': 2, 'downstream': ['IsSame', 'NotSame', 'And', 'Or'], 'same_children_op': False, 'min_depth': 4, 'min_op': 15}, 'Or': {'n_downstream': 2, 'downstream': ['IsSame', 'NotSame', 'And', 'Or'], 'same_children_op': False, 'min_depth': 4, 'min_op': 15}, 'CONST': {'n_downstream': 0, 'downstream': [], 'sample_dist': [], 'same_children_op': False, 'min_depth': 1, 'min_op': 1}}, 'root_ops': ['IsSame', 'And', 'Or', 'NotSame', 'GetLoc', 'GetCategory'], 'boolean_ops': ['IsSame', 'And', 'Or', 'NotSame'], 'leaf_op': ['Select'], 'mid_op': ['Switch'], 'max_op': 20, 'max_depth': 10, 'max_switch': 1, 'switch_threshold': 0, 'select_limit': False}\n"
     ]
    }
   ],
   "source": [
    "output_dir = 'outputs/trials/random' # the output directory\n",
    "stim_dir = '../data/shapenet_handpicked_train' # stimulus set\n",
    "n_tasks = 10 # number of tasks to be generated\n",
    "n_trials = 100 # number of trials per task\n",
    "\n",
    "env = make(\n",
    "    env_id='ShapeNet',\n",
    "    dataset_fp=stim_dir\n",
    ")\n",
    "print(env.env_spec.auto_gen_config)\n",
    "\n",
    "# Create the output directory\n",
    "if os.path.exists(output_dir):\n",
    "    shutil.rmtree(output_dir)\n",
    "os.makedirs(output_dir)"
   ]
  },
  {
   "attachments": {},
   "cell_type": "markdown",
   "metadata": {},
   "source": [
    "- Generate the random tasks and write them to the output directory"
   ]
  },
  {
   "cell_type": "code",
   "execution_count": 22,
   "metadata": {
    "ExecuteTime": {
     "end_time": "2024-02-16T04:27:46.881684Z",
     "start_time": "2024-02-16T04:27:46.431291Z"
    }
   },
   "outputs": [],
   "source": [
    "# Randomly generate tasks\n",
    "tasks = env.generate_tasks(n_tasks)"
   ]
  },
  {
   "cell_type": "markdown",
   "metadata": {},
   "source": [
    "- Generate task trials (note the  mode)"
   ]
  },
  {
   "cell_type": "code",
   "execution_count": null,
   "metadata": {},
   "outputs": [],
   "source": [
    "# Generate trials from tasks\n",
    "for t in tasks:\n",
    "    _, (_, temporal_task) = t\n",
    "    for i in range(n_trials):\n",
    "        trials = env.generate_trials(tasks=[temporal_task], mode='train')\n",
    "        imgs, _, info_dict = trials[0]\n",
    "        read_write.write_trial(imgs, info_dict, output_dir + f'/trial{i}')"
   ]
  },
  {
   "cell_type": "code",
   "execution_count": 24,
   "metadata": {
    "ExecuteTime": {
     "end_time": "2024-02-16T04:37:55.348338Z",
     "start_time": "2024-02-16T04:37:54.749737Z"
    },
    "collapsed": false
   },
   "outputs": [
    {
     "name": "stdout",
     "output_type": "stream",
     "text": [
      "instruction  observe object 1, delay, observe object 2, delay, identity of object 2 not equals identity of object 1?\n",
      "answers:  ['null', 'null', 'null', 'null', 'null', 'false']\n"
     ]
    },
    {
     "data": {
      "image/png": "[encoded data removed]",
      "text/plain": [
       "<Figure size 2000x1000 with 6 Axes>"
      ]
     },
     "metadata": {},
     "output_type": "display_data"
    }
   ],
   "source": [
    "# display trial frame sequence\n",
    "images = []\n",
    "for img_path in sorted(glob.glob(output_dir + '/trial7/frames/*.png')):\n",
    "    images.append(mpimg.imread(img_path))\n",
    "\n",
    "plt.figure(figsize=(20,10))\n",
    "columns = 10\n",
    "for i, image in enumerate(images):\n",
    "    plt.subplot(len(images) // columns + 1, columns, i + 1)\n",
    "    plt.imshow(image)\n",
    "with open(output_dir + '/trial7/frames/task_info.json') as f:\n",
    "    trial_info = json.load(f)\n",
    "print('instruction ', trial_info['instruction'])\n",
    "print('answers: ', trial_info['answers'])"
   ]
  },
  {
   "cell_type": "code",
   "execution_count": null,
   "metadata": {},
   "outputs": [],
   "source": []
  },
  {
   "cell_type": "code",
   "execution_count": null,
   "metadata": {},
   "outputs": [],
   "source": []
  }
 ],
 "metadata": {
  "kernelspec": {
   "display_name": "bashlab_cogenv",
   "language": "python",
   "name": "python3"
  },
  "language_info": {
   "codemirror_mode": {
    "name": "ipython",
    "version": 3
   },
   "file_extension": ".py",
   "mimetype": "text/x-python",
   "name": "python",
   "nbconvert_exporter": "python",
   "pygments_lexer": "ipython3",
   "version": "3.11.8"
  },
  "orig_nbformat": 4
 },
 "nbformat": 4,
 "nbformat_minor": 2
}
