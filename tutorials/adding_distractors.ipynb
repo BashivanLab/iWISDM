{
 "cells": [
  {
   "cell_type": "markdown",
   "metadata": {},
   "source": [
    "# Adding Distractions to Task Trials"
   ]
  },
  {
   "cell_type": "markdown",
   "metadata": {},
   "source": [
    "### Imports"
   ]
  },
  {
   "cell_type": "code",
   "execution_count": 21,
   "metadata": {},
   "outputs": [],
   "source": [
    "import sys\n",
    "sys.path.append('../')\n",
    "\n",
    "import os\n",
    "import shutil\n",
    "import glob\n",
    "import json\n",
    "\n",
    "from wisdom import make\n",
    "from wisdom import read_write\n",
    "import wisdom.envs.shapenet.task_generator as tg\n",
    "\n",
    "import matplotlib.pyplot as plt\n",
    "import matplotlib.image as mpimg\n",
    "%matplotlib inline"
   ]
  },
  {
   "cell_type": "markdown",
   "metadata": {},
   "source": [
    "### Environment"
   ]
  },
  {
   "cell_type": "code",
   "execution_count": 16,
   "metadata": {},
   "outputs": [
    {
     "name": "stdout",
     "output_type": "stream",
     "text": [
      "{'op_dict': {'Select': {'n_downstream': 4, 'downstream': ['GetLoc', 'GetCategory', 'GetObject'], 'same_children_op': False, 'min_depth': 1, 'min_op': 1}, 'GetCategory': {'n_downstream': 1, 'downstream': ['Select'], 'min_depth': 2, 'min_op': 2}, 'GetLoc': {'n_downstream': 1, 'downstream': ['Select'], 'min_depth': 2, 'min_op': 2}, 'GetObject': {'n_downstream': 1, 'downstream': ['Select'], 'min_depth': 2, 'min_op': 2}, 'IsSame': {'n_downstream': 2, 'downstream': ['GetLoc', 'GetCategory', 'GetObject', 'CONST'], 'sample_dist': [0.26666666666666666, 0.26666666666666666, 0.26666666666666666, 0.2], 'same_children_op': True, 'min_depth': 3, 'min_op': 7}, 'NotSame': {'n_downstream': 2, 'downstream': ['GetLoc', 'GetCategory', 'GetObject', 'CONST'], 'sample_dist': [0.26666666666666666, 0.26666666666666666, 0.26666666666666666, 0.2], 'same_children_op': True, 'min_depth': 3, 'min_op': 7}, 'And': {'n_downstream': 2, 'downstream': ['IsSame', 'NotSame', 'And', 'Or'], 'same_children_op': False, 'min_depth': 4, 'min_op': 15}, 'Or': {'n_downstream': 2, 'downstream': ['IsSame', 'NotSame', 'And', 'Or'], 'same_children_op': False, 'min_depth': 4, 'min_op': 15}, 'CONST': {'n_downstream': 0, 'downstream': [], 'sample_dist': [], 'same_children_op': False, 'min_depth': 1, 'min_op': 1}}, 'root_ops': ['IsSame', 'And', 'Or', 'NotSame', 'GetLoc', 'GetCategory'], 'boolean_ops': ['IsSame', 'And', 'Or', 'NotSame'], 'leaf_op': ['Select'], 'mid_op': ['Switch'], 'max_op': 20, 'max_depth': 10, 'max_switch': 1, 'switch_threshold': 0, 'select_limit': False}\n"
     ]
    }
   ],
   "source": [
    "task_dir = 'outputs/tasks/comp_loc_task.json'\n",
    "frame_trial_output_dir = 'outputs/trials/frame_distract'\n",
    "temporal_trial_output_dir = 'outputs/trials/temporal_distract'\n",
    "stim_dir = '../data/shapenet_handpicked'\n",
    "\n",
    "# Remake trials directory\n",
    "if os.path.exists(frame_trial_output_dir):\n",
    "    shutil.rmtree(frame_trial_output_dir)\n",
    "os.makedirs(frame_trial_output_dir)\n",
    "if os.path.exists(temporal_trial_output_dir):\n",
    "    shutil.rmtree(temporal_trial_output_dir)\n",
    "os.makedirs(temporal_trial_output_dir)\n",
    "\n",
    "# Create environment\n",
    "env = make(\n",
    "    env_id='ShapeNet',\n",
    "    dataset_fp=stim_dir\n",
    ")\n",
    "\n",
    "# Initialize environment\n",
    "print(env.env_spec.auto_gen_config)"
   ]
  },
  {
   "cell_type": "markdown",
   "metadata": {},
   "source": [
    "### Load A Task \n",
    "- See [/individual_task_gen.ipynb](https://github.com/BashivanLab/iWISDM/tree/main/tutorials/individual_task_gen.ipynb) for comp_loc_task.json creation. "
   ]
  },
  {
   "cell_type": "code",
   "execution_count": 17,
   "metadata": {},
   "outputs": [],
   "source": [
    "comp_loc_task = tg.read_task('outputs/tasks/comp_loc_task.json')"
   ]
  },
  {
   "cell_type": "markdown",
   "metadata": {},
   "source": [
    "### Generate 10 Trials with Frame Distractions\n",
    "- A frame distration is an extra object within a task-relevant trial frame.\n",
    "- **add_distractor_frame**: This parameter controls the desired maximum number of frame distractions to be generated "
   ]
  },
  {
   "cell_type": "code",
   "execution_count": 18,
   "metadata": {},
   "outputs": [],
   "source": [
    "# Generate trials from tasks\n",
    "for i in range(10):\n",
    "    trials = env.generate_trials(tasks=[comp_loc_task], mode='train', add_distractor_frame=1)\n",
    "    imgs, _, info_dict = trials[0]\n",
    "    read_write.write_trial(imgs, info_dict, frame_trial_output_dir + f'/trial{i}')"
   ]
  },
  {
   "cell_type": "markdown",
   "metadata": {},
   "source": [
    "#### Show example trial"
   ]
  },
  {
   "cell_type": "code",
   "execution_count": 22,
   "metadata": {},
   "outputs": [
    {
     "name": "stdout",
     "output_type": "stream",
     "text": [
      "instruction  observe object 1, delay, observe object 2 with category: couches, location of object 2 equals location of object 1?\n",
      "answers:  ['null', 'null', 'null', 'null', 'false']\n"
     ]
    },
    {
     "data": {
      "image/png": "[encoded data removed]",
      "text/plain": [
       "<Figure size 2000x1000 with 5 Axes>"
      ]
     },
     "metadata": {},
     "output_type": "display_data"
    }
   ],
   "source": [
    "images = []\n",
    "\n",
    "for img_path in sorted(glob.glob(frame_trial_output_dir + '/trial0/frames/*.png')):\n",
    "    images.append(mpimg.imread(img_path))\n",
    "\n",
    "plt.figure(figsize=(20,10))\n",
    "columns = 10\n",
    "\n",
    "for i, image in enumerate(images):\n",
    "    plt.subplot(len(images) // columns + 1, columns, i + 1)\n",
    "    plt.imshow(image)\n",
    "\n",
    "with open(frame_trial_output_dir + '/trial0/frames/task_info.json') as f:\n",
    "    trial_info = json.load(f)\n",
    "\n",
    "print('instruction ', trial_info['instruction'])\n",
    "print('answers: ', trial_info['answers'])"
   ]
  },
  {
   "cell_type": "markdown",
   "metadata": {},
   "source": [
    "### Generate 10 Trials with Temporal Distractions\n",
    "- A temporal distration is an extra object within a delay frame (task-irrelevant trial frame).\n",
    "- **add_distractor_time**: This parameter controls the desired maximum number of temporal distractions to be generated "
   ]
  },
  {
   "cell_type": "code",
   "execution_count": 19,
   "metadata": {},
   "outputs": [],
   "source": [
    "# Generate trials from tasks\n",
    "for i in range(10):\n",
    "    trials = env.generate_trials(tasks=[comp_loc_task], mode='train', add_distractor_time=1)\n",
    "    imgs, _, info_dict = trials[0]\n",
    "    read_write.write_trial(imgs, info_dict, temporal_trial_output_dir + f'/trial{i}')"
   ]
  },
  {
   "cell_type": "markdown",
   "metadata": {},
   "source": [
    "#### Show example trial"
   ]
  },
  {
   "cell_type": "code",
   "execution_count": 23,
   "metadata": {},
   "outputs": [
    {
     "name": "stdout",
     "output_type": "stream",
     "text": [
      "instruction  observe object 1, delay, observe object 2, observe object 3, location of object 3 equals location of object 1?\n",
      "answers:  ['null', 'null', 'null', 'null', 'true']\n"
     ]
    },
    {
     "data": {
      "image/png": "[encoded data removed]",
      "text/plain": [
       "<Figure size 2000x1000 with 5 Axes>"
      ]
     },
     "metadata": {},
     "output_type": "display_data"
    }
   ],
   "source": [
    "images = []\n",
    "\n",
    "for img_path in sorted(glob.glob(temporal_trial_output_dir + '/trial0/frames/*.png')):\n",
    "    images.append(mpimg.imread(img_path))\n",
    "\n",
    "plt.figure(figsize=(20,10))\n",
    "columns = 10\n",
    "\n",
    "for i, image in enumerate(images):\n",
    "    plt.subplot(len(images) // columns + 1, columns, i + 1)\n",
    "    plt.imshow(image)\n",
    "\n",
    "with open(temporal_trial_output_dir + '/trial0/frames/task_info.json') as f:\n",
    "    trial_info = json.load(f)\n",
    "\n",
    "print('instruction ', trial_info['instruction'])\n",
    "print('answers: ', trial_info['answers'])"
   ]
  }
 ],
 "metadata": {
  "kernelspec": {
   "display_name": "iWISDM",
   "language": "python",
   "name": "python3"
  },
  "language_info": {
   "codemirror_mode": {
    "name": "ipython",
    "version": 3
   },
   "file_extension": ".py",
   "mimetype": "text/x-python",
   "name": "python",
   "nbconvert_exporter": "python",
   "pygments_lexer": "ipython3",
   "version": "3.11.8"
  }
 },
 "nbformat": 4,
 "nbformat_minor": 2
}
