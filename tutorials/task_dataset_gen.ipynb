{
 "cells": [
  {
   "attachments": {},
   "cell_type": "markdown",
   "metadata": {},
   "source": [
    "# Creating and saving a single task dataset "
   ]
  },
  {
   "attachments": {},
   "cell_type": "markdown",
   "metadata": {},
   "source": [
    "### Imports"
   ]
  },
  {
   "cell_type": "code",
   "execution_count": 5,
   "metadata": {},
   "outputs": [],
   "source": [
    "import sys\n",
    "sys.path.append('../')"
   ]
  },
  {
   "cell_type": "code",
   "execution_count": 6,
   "metadata": {},
   "outputs": [],
   "source": [
    "from cognitive import constants as const\n",
    "from cognitive.auto_task.auto_task_util import write_trial_instance\n",
    "from cognitive.task_bank import CompareLocTemporal, CompareObjectTemporal, CompareCategoryTemporal, SequentialCategoryMatch, SequentialLocationMatch\n",
    "import os\n",
    "import shutil\n",
    "import random"
   ]
  },
  {
   "attachments": {},
   "cell_type": "markdown",
   "metadata": {},
   "source": [
    "### Constant Definitions"
   ]
  },
  {
   "attachments": {},
   "cell_type": "markdown",
   "metadata": {},
   "source": [
    "- Here we define the constants for the task"
   ]
  },
  {
   "cell_type": "code",
   "execution_count": 7,
   "metadata": {},
   "outputs": [
    {
     "name": "stdout",
     "output_type": "stream",
     "text": [
      "Stimuli Directory:  ../data/new_subnet_train\n",
      "OrderedDict([((0, 0), [(0.0, 0.3333333333333333), (0.0, 0.3333333333333333)]), ((0, 1), [(0.0, 0.3333333333333333), (0.3333333333333333, 0.6666666666666666)]), ((0, 2), [(0.0, 0.3333333333333333), (0.6666666666666666, 1.0)]), ((1, 0), [(0.3333333333333333, 0.6666666666666666), (0.0, 0.3333333333333333)]), ((1, 1), [(0.3333333333333333, 0.6666666666666666), (0.3333333333333333, 0.6666666666666666)]), ((1, 2), [(0.3333333333333333, 0.6666666666666666), (0.6666666666666666, 1.0)]), ((2, 0), [(0.6666666666666666, 1.0), (0.0, 0.3333333333333333)]), ((2, 1), [(0.6666666666666666, 1.0), (0.3333333333333333, 0.6666666666666666)]), ((2, 2), [(0.6666666666666666, 1.0), (0.6666666666666666, 1.0)])])\n"
     ]
    }
   ],
   "source": [
    "output_dir = '../datasets/new_train_test' # the output directory\n",
    "stim_dir =  '../data/new_subnet_train' # stimulus set\n",
    "n_tasks = 100 # number of tasks to be generated\n",
    "const.DATA = const.Data(dir_path=stim_dir, max_memory=3)\n",
    "\n",
    "# Create the output directory\n",
    "if os.path.exists(output_dir):\n",
    "    shutil.rmtree(output_dir)\n",
    "os.makedirs(output_dir)"
   ]
  },
  {
   "attachments": {},
   "cell_type": "markdown",
   "metadata": {},
   "source": [
    "- Generate the tasks and write them to the output directory"
   ]
  },
  {
   "cell_type": "code",
   "execution_count": 8,
   "metadata": {},
   "outputs": [],
   "source": [
    "for i in range(n_tasks):\n",
    "\n",
    "    # Choose a task class (see task_bank or make your own see individual_task_gen.ipynb)\n",
    "    task = CompareCategoryTemporal(whens=['last2','last0'])\n",
    "\n",
    "    # Write trial to disk\n",
    "    fp = os.path.join(output_dir, 'trial' + str(i))\n",
    "    write_trial_instance(task, fp, 256, True, train=True)"
   ]
  },
  {
   "cell_type": "code",
   "execution_count": null,
   "metadata": {},
   "outputs": [],
   "source": []
  },
  {
   "cell_type": "code",
   "execution_count": null,
   "metadata": {},
   "outputs": [],
   "source": []
  }
 ],
 "metadata": {
  "kernelspec": {
   "display_name": "Python 3 (ipykernel)",
   "language": "python",
   "name": "python3"
  },
  "language_info": {
   "codemirror_mode": {
    "name": "ipython",
    "version": 3
   },
   "file_extension": ".py",
   "mimetype": "text/x-python",
   "name": "python",
   "nbconvert_exporter": "python",
   "pygments_lexer": "ipython3",
   "version": "3.8.17"
  },
  "orig_nbformat": 4
 },
 "nbformat": 4,
 "nbformat_minor": 2
}
