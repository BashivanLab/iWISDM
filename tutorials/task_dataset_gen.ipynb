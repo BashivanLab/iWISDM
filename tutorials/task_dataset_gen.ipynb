{
 "cells": [
  {
   "cell_type": "markdown",
   "metadata": {},
   "source": [
    "# Creating and saving a single task dataset from predefined tasks"
   ]
  },
  {
   "cell_type": "markdown",
   "metadata": {},
   "source": [
    "### Imports"
   ]
  },
  {
   "cell_type": "code",
   "execution_count": 4,
   "metadata": {
    "ExecuteTime": {
     "end_time": "2024-02-16T04:41:50.077772Z",
     "start_time": "2024-02-16T04:41:50.068268Z"
    }
   },
   "outputs": [],
   "source": [
    "import sys\n",
    "sys.path.append('../')"
   ]
  },
  {
   "cell_type": "code",
   "execution_count": 10,
   "metadata": {
    "ExecuteTime": {
     "end_time": "2024-02-16T04:43:58.725558Z",
     "start_time": "2024-02-16T04:43:58.687755Z"
    }
   },
   "outputs": [],
   "source": [
    "from cognitive import constants as const\n",
    "from cognitive.auto_task.auto_task_util import write_trial_instance\n",
    "from cognitive.task_bank import CompareLocTemporal, CompareCategoryTemporal, SequentialCategoryMatch\n",
    "import os\n",
    "import shutil\n",
    "import glob\n",
    "import json\n",
    "\n",
    "import matplotlib.pyplot as plt\n",
    "import matplotlib.image as mpimg\n",
    "%matplotlib inline"
   ]
  },
  {
   "cell_type": "markdown",
   "metadata": {},
   "source": [
    "### Constant Definitions"
   ]
  },
  {
   "cell_type": "markdown",
   "metadata": {},
   "source": [
    "- Here we define the constants for the task"
   ]
  },
  {
   "cell_type": "code",
   "execution_count": 11,
   "metadata": {
    "ExecuteTime": {
     "end_time": "2024-02-16T04:43:59.329750Z",
     "start_time": "2024-02-16T04:43:59.152858Z"
    }
   },
   "outputs": [],
   "source": [
    "output_dir = '../datasets/test_mini' # the output directory\n",
    "stim_dir = '../data/shapenet_handpicked_val'\n",
    "n_tasks = 10 # number of tasks to be generated\n",
    "const.DATA = const.Data(dir_path=stim_dir, train=False)#, max_memory=3)\n",
    "\n",
    "# Create the output directory\n",
    "if os.path.exists(output_dir):\n",
    "    shutil.rmtree(output_dir)\n",
    "os.makedirs(output_dir)"
   ]
  },
  {
   "cell_type": "markdown",
   "metadata": {},
   "source": [
    "- Generate the tasks and write them to the output directory\n",
    "- (remember to specify 'train' parameter of write function)"
   ]
  },
  {
   "cell_type": "code",
   "execution_count": 12,
   "metadata": {
    "ExecuteTime": {
     "end_time": "2024-02-16T04:43:59.787639Z",
     "start_time": "2024-02-16T04:43:59.449222Z"
    }
   },
   "outputs": [],
   "source": [
    "for i in range(n_tasks):\n",
    "\n",
    "    # Choose a task class (see task_bank or make your own see individual_task_gen.ipynb)\n",
    "    task = CompareCategoryTemporal(whens=['last2','last0'])\n",
    "\n",
    "    # Write trial to disk\n",
    "    fp = os.path.join(output_dir, 'trial' + str(i))\n",
    "    write_trial_instance(task, fp, 224, True, train=True)"
   ]
  },
  {
   "cell_type": "code",
   "execution_count": 15,
   "metadata": {
    "ExecuteTime": {
     "end_time": "2024-02-16T04:44:51.487948Z",
     "start_time": "2024-02-16T04:44:51.112612Z"
    }
   },
   "outputs": [
    {
     "name": "stdout",
     "output_type": "stream",
     "text": [
      "instruction  observe object 1, delay, observe object 2, category of object 1 equal category of object 2 ?\n",
      "answers:  ['null', 'null', 'false']\n"
     ]
    },
    {
     "data": {
      "text/plain": "<Figure size 2000x1000 with 3 Axes>",
      "image/png": "[encoded data removed]"
     },
     "metadata": {},
     "output_type": "display_data"
    }
   ],
   "source": [
    "# display trial frame sequence\n",
    "images = []\n",
    "for img_path in sorted(glob.glob('../datasets/test_mini/trial0/*.png')):\n",
    "    images.append(mpimg.imread(img_path))\n",
    "\n",
    "plt.figure(figsize=(20,10))\n",
    "columns = 10\n",
    "for i, image in enumerate(images):\n",
    "    plt.subplot(len(images) // columns + 1, columns, i + 1)\n",
    "    plt.imshow(image)\n",
    "with open('../datasets/test_mini/trial0/trial_info') as f:\n",
    "    trial_info = json.load(f)\n",
    "print('instruction ', trial_info['instruction'])\n",
    "print('answers: ', trial_info['answers'])"
   ]
  },
  {
   "cell_type": "code",
   "execution_count": null,
   "outputs": [],
   "source": [],
   "metadata": {
    "collapsed": false
   }
  }
 ],
 "metadata": {
  "kernelspec": {
   "display_name": "bashlab_cogenv",
   "language": "python",
   "name": "python3"
  },
  "language_info": {
   "codemirror_mode": {
    "name": "ipython",
    "version": 3
   },
   "file_extension": ".py",
   "mimetype": "text/x-python",
   "name": "python",
   "nbconvert_exporter": "python",
   "pygments_lexer": "ipython3",
   "version": "3.8.17"
  }
 },
 "nbformat": 4,
 "nbformat_minor": 4
}
