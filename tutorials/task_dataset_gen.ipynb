{
 "cells": [
  {
   "cell_type": "markdown",
   "metadata": {},
   "source": [
    "# Creating and saving a single task dataset from predefined tasks"
   ]
  },
  {
   "cell_type": "markdown",
   "metadata": {},
   "source": [
    "### Imports"
   ]
  },
  {
   "cell_type": "code",
   "execution_count": null,
   "metadata": {
    "ExecuteTime": {
     "end_time": "2024-02-16T04:41:50.077772Z",
     "start_time": "2024-02-16T04:41:50.068268Z"
    }
   },
   "outputs": [],
   "source": [
    "import sys\n",
    "sys.path.append('../')"
   ]
  },
  {
   "cell_type": "code",
   "execution_count": null,
   "metadata": {
    "ExecuteTime": {
     "end_time": "2024-02-16T04:43:58.725558Z",
     "start_time": "2024-02-16T04:43:58.687755Z"
    }
   },
   "outputs": [],
   "source": [
    "from iwisdm import make\n",
    "from iwisdm import read_write\n",
    "import iwisdm.envs.shapenet.task_generator as tg\n",
    "\n",
    "import json\n",
    "import os\n",
    "import shutil\n",
    "import glob\n",
    "import json\n",
    "\n",
    "import matplotlib.pyplot as plt\n",
    "import matplotlib.image as mpimg\n",
    "%matplotlib inline"
   ]
  },
  {
   "cell_type": "markdown",
   "metadata": {},
   "source": [
    "### Constant Definitions"
   ]
  },
  {
   "cell_type": "markdown",
   "metadata": {},
   "source": [
    "- Here we define generation parameters and the ShapeNet environment object\n",
    "    - NOTE: here we will be generating training data. For validation data you must specify a validation stimulus and set train=False. "
   ]
  },
  {
   "cell_type": "code",
   "execution_count": null,
   "metadata": {
    "ExecuteTime": {
     "end_time": "2024-02-16T04:43:59.329750Z",
     "start_time": "2024-02-16T04:43:59.152858Z"
    }
   },
   "outputs": [],
   "source": [
    "output_dir = 'outputs/trials/train' \n",
    "stim_dir = '../data/shapenet_handpicked'\n",
    "n_tasks = 100 # number of tasks to be generated\n",
    "\n",
    "env = make(\n",
    "    env_id='ShapeNet',\n",
    "    dataset_fp=stim_dir\n",
    ")\n",
    "print(env.env_spec.auto_gen_config)\n",
    "\n",
    "# Create the output directory\n",
    "if os.path.exists(output_dir):\n",
    "    shutil.rmtree(output_dir)\n",
    "\n",
    "os.makedirs(output_dir)"
   ]
  },
  {
   "cell_type": "markdown",
   "metadata": {},
   "source": [
    "- Generate the tasks and write them to the output directory\n",
    "- (remember to specify the correct mode for generation)"
   ]
  },
  {
   "cell_type": "code",
   "execution_count": null,
   "metadata": {
    "ExecuteTime": {
     "end_time": "2024-02-16T04:43:59.787639Z",
     "start_time": "2024-02-16T04:43:59.449222Z"
    }
   },
   "outputs": [],
   "source": [
    "# Choose a task class (see task_bank or make your own see individual_task_gen.ipynb)\n",
    "task = env.read_task('outputs/tasks/comp_loc_task.json')\n",
    "\n",
    "for i in range(n_tasks):\n",
    "    \n",
    "    # Generate trial info\n",
    "    trials = env.generate_trials(tasks=[task], mode='train')\n",
    "    imgs, _, info_dict = trials[0]\n",
    "\n",
    "    # Write trial to disk\n",
    "    read_write.write_trial(imgs, info_dict, output_dir + f'/trial{i}')"
   ]
  },
  {
   "cell_type": "markdown",
   "metadata": {},
   "source": [
    "- Read and display one of the written trials"
   ]
  },
  {
   "cell_type": "code",
   "execution_count": null,
   "metadata": {},
   "outputs": [],
   "source": [
    "images = []\n",
    "\n",
    "for img_path in sorted(glob.glob('outputs/trials/train/trial0/frames/*.png')):\n",
    "    images.append(mpimg.imread(img_path))\n",
    "\n",
    "plt.figure(figsize=(20,10))\n",
    "columns = 10\n",
    "\n",
    "for i, image in enumerate(images):\n",
    "    plt.subplot(len(images) // columns + 1, columns, i + 1)\n",
    "    plt.imshow(image)\n",
    "\n",
    "with open('outputs/trials/train/trial0/frames/task_info.json') as f:\n",
    "    trial_info = json.load(f)\n",
    "\n",
    "print('instruction ', trial_info['instruction'])\n",
    "print('answers: ', trial_info['answers'])"
   ]
  }
 ],
 "metadata": {
  "kernelspec": {
   "display_name": "iWISDM",
   "language": "python",
   "name": "python3"
  },
  "language_info": {
   "codemirror_mode": {
    "name": "ipython",
    "version": 3
   },
   "file_extension": ".py",
   "mimetype": "text/x-python",
   "name": "python",
   "nbconvert_exporter": "python",
   "pygments_lexer": "ipython3",
   "version": "3.11.8"
  }
 },
 "nbformat": 4,
 "nbformat_minor": 4
}
